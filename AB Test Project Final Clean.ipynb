{
 "cells": [
  {
   "cell_type": "markdown",
   "id": "a7d61f44",
   "metadata": {},
   "source": [
    "# A/B Testing Project"
   ]
  },
  {
   "cell_type": "markdown",
   "id": "bfd91ae2",
   "metadata": {},
   "source": [
    "## Introduction"
   ]
  },
  {
   "cell_type": "markdown",
   "id": "f2297c6c",
   "metadata": {},
   "source": [
    "This analysis analyzes an A/B test launched by analysts for an international online store. The purpose and aim of the analysis is to examine the test data and see whether it was carried out correctly. Then, to analyze the results.\n",
    "\n",
    "The technical description of the test they launched is as follows: \n",
    "- The test's name: \"recommender_system_test\";\n",
    "- Experiment groups: A (control), B (new payment funnel);\n",
    "- The test's launch date: 2020-12-07;\n",
    "- Last date of taking up new users: 2020-12-21;\n",
    "- Test end date: 2021-01-01;\n",
    "- The test's audience: 15% of the new users from the EU region;\n",
    "- The purpose of the test: testing changes related to the introduction of an improved recommendation system;\n",
    "- The test's expected result: within 14 days of signing up, users will show better conversion into product page views (the 'product_page' event), product card views ('product_card') and purchases ('purchase'). At each of the stage of the funnel 'product_page → product_card → purchase', there will be at least a 10% increase;\n",
    "- The expected number of test participants: 6,000.\n",
    "\n",
    "The aim of this analysis: **examine the test data and see whether it was carried out correctly. Then, analyze the results.**"
   ]
  },
  {
   "cell_type": "markdown",
   "id": "0d558476",
   "metadata": {},
   "source": [
    "## Description of the Data"
   ]
  },
  {
   "cell_type": "markdown",
   "id": "1b0dad63",
   "metadata": {},
   "source": [
    "In this analysis, we have four datasets: \n",
    "- marketing_events — the calendar of marketing events for 2020;\n",
    "- users — all users who signed up in the online store from December 7 to 21, 2020;\n",
    "- user_event — all events of the new users within the period from December 7, 2020 to January 1, 2021;\n",
    "- participants — table containing test participants.\n",
    "\n",
    "Hereinafter, I will detail the data within each of the datasets note above:\n",
    "1. marketing_events:\n",
    "    - 'name' - the name of the marketing event;\n",
    "    - 'regions' - regions where the ad campaign will be held;\n",
    "    - 'start_dt' - campaign start date;\n",
    "    - 'finish_dt' - campaign end date.\n",
    "\n",
    "\n",
    "2. users:\n",
    "    - user_id - each user's unique user id;\n",
    "    - first_date - sign-up date;\n",
    "    - region - the user's region;\n",
    "    - device - device used to sign up.\n",
    "\n",
    "\n",
    "3. user_events:\n",
    "    - user_id - each user's unique user id;\n",
    "    - event_dt - event date and time;\n",
    "    - event_name - event type name;\n",
    "    - details - additional data on the event (for instance, the order total in USD for 'purchase' events).\n",
    "\n",
    "\n",
    "4. participants:\n",
    "    - user_id - each user's unique user id;\n",
    "    - ab_test - test name;\n",
    "    - group - the test group the user belonged to."
   ]
  },
  {
   "cell_type": "markdown",
   "id": "007c6b8b",
   "metadata": {},
   "source": [
    "## Loading and Initial Exploration of the Data"
   ]
  },
  {
   "cell_type": "code",
   "execution_count": 1,
   "id": "f6206a39",
   "metadata": {},
   "outputs": [],
   "source": [
    "# importing library to ignore jupyter warnings \n",
    "\n",
    "import warnings\n",
    "warnings.filterwarnings('ignore')"
   ]
  },
  {
   "cell_type": "code",
   "execution_count": 2,
   "id": "b1c42d55",
   "metadata": {},
   "outputs": [],
   "source": [
    "# importing used libaraies \n",
    "\n",
    "import matplotlib\n",
    "import pandas as pd\n",
    "import math as mth\n",
    "import numpy as np\n",
    "import datetime as dt\n",
    "import seaborn as sns\n",
    "import plotly.express as px\n",
    "from scipy import stats as st\n",
    "from scipy.stats import levene\n",
    "import matplotlib.pyplot as plt\n",
    "from plotly import graph_objects as go\n",
    "from IPython.display import display_html\n",
    "from plotly.subplots import make_subplots\n",
    "\n",
    "#unused libraries: \n",
    "\n",
    "#import random\n",
    "#import sidetable\n",
    "#from random import sample\n",
    "#from functools import reduce\n",
    "#from itertools import chain,cycle\n",
    "#from sklearn.cluster import KMeans\n",
    "#from sklearn.metrics import roc_auc_score\n",
    "#from sklearn.tree import DecisionTreeClassifier\n",
    "#from sklearn.preprocessing import StandardScaler\n",
    "#from sklearn.model_selection import train_test_split\n",
    "#from scipy.cluster.hierarchy import dendrogram, linkage\n",
    "#from sklearn.linear_model import Lasso, Ridge, LogisticRegression\n",
    "#from sklearn.ensemble import RandomForestClassifier, GradientBoostingClassifier\n",
    "#from sklearn.metrics import mean_absolute_error, mean_squared_error, r2_score, \n",
    "#accuracy_score, precision_score, recall_score, f1_score\n"
   ]
  },
  {
   "cell_type": "code",
   "execution_count": 3,
   "id": "4f59b25d",
   "metadata": {},
   "outputs": [],
   "source": [
    "#loading of the data frames and saving them in variables\n",
    "\n",
    "try: \n",
    "    marketing_events = pd.read_csv(\n",
    "        '/Users/doronerlich/Desktop/Code ME/Final Project/ab_project_marketing_events_us.csv')\n",
    "    users = pd.read_csv('/Users/doronerlich/Desktop/Code ME/Final Project/final_ab_new_users_upd_us.csv', \n",
    "                        dtype={'device': 'category', 'region': 'category'})\n",
    "    user_events = pd.read_csv('/Users/doronerlich/Desktop/Code ME/Final Project/final_ab_events_upd_us.csv', \n",
    "                              parse_dates=['event_dt'])\n",
    "    participants = pd.read_csv('/Users/doronerlich/Desktop/Code ME/Final Project/final_ab_participants_upd_us.csv')\n",
    "except:\n",
    "    marketing_events = pd.read_csv('/datasets/ab_project_marketing_events_us.csv')\n",
    "    users = pd.read_csv('/datasets/final_ab_new_users_upd_us.csv', \n",
    "                        dtype={'device': 'category', 'region': 'category'})\n",
    "    user_events = pd.read_csv('/datasets/final_ab_events_upd_us.csv', parse_dates=['event_dt'])\n",
    "    participants = pd.read_csv('/datasets/final_ab_participants_upd_us.csv')\n",
    "    "
   ]
  },
  {
   "cell_type": "code",
   "execution_count": 4,
   "id": "5b6c726e",
   "metadata": {},
   "outputs": [],
   "source": [
    "# creating a function to print each column's unique values and their value counts\n",
    "\n",
    "def exploration(data, parameter):\n",
    "    print(\"Overview of '{}' column:\".format(parameter))\n",
    "    print()\n",
    "    print(data[parameter].unique())\n",
    "    print()\n",
    "    print(data[parameter].value_counts())\n",
    "    print()\n",
    "    print('------------------------------------')\n",
    "    print()\n",
    "    "
   ]
  },
  {
   "cell_type": "markdown",
   "id": "120bb58b",
   "metadata": {},
   "source": [
    "Now that I loaded the necessary libraries, saved the dataset in variables and created a function to assist in easy exploration of the datasets - I will perform an initial exploration of each dataset and then summarize my findings. "
   ]
  },
  {
   "cell_type": "markdown",
   "id": "fd563f30",
   "metadata": {},
   "source": [
    "### Marketing Events"
   ]
  },
  {
   "cell_type": "code",
   "execution_count": 5,
   "id": "510d4790",
   "metadata": {},
   "outputs": [
    {
     "name": "stdout",
     "output_type": "stream",
     "text": [
      "<class 'pandas.core.frame.DataFrame'>\n",
      "RangeIndex: 14 entries, 0 to 13\n",
      "Data columns (total 4 columns):\n",
      " #   Column     Non-Null Count  Dtype \n",
      "---  ------     --------------  ----- \n",
      " 0   name       14 non-null     object\n",
      " 1   regions    14 non-null     object\n",
      " 2   start_dt   14 non-null     object\n",
      " 3   finish_dt  14 non-null     object\n",
      "dtypes: object(4)\n",
      "memory usage: 576.0+ bytes\n"
     ]
    }
   ],
   "source": [
    "# printing the \"marketing_events\" dataset info\n",
    "\n",
    "marketing_events.info()\n"
   ]
  },
  {
   "cell_type": "code",
   "execution_count": 6,
   "id": "a2caf0d1",
   "metadata": {},
   "outputs": [
    {
     "data": {
      "text/html": [
       "<div>\n",
       "<style scoped>\n",
       "    .dataframe tbody tr th:only-of-type {\n",
       "        vertical-align: middle;\n",
       "    }\n",
       "\n",
       "    .dataframe tbody tr th {\n",
       "        vertical-align: top;\n",
       "    }\n",
       "\n",
       "    .dataframe thead th {\n",
       "        text-align: right;\n",
       "    }\n",
       "</style>\n",
       "<table border=\"1\" class=\"dataframe\">\n",
       "  <thead>\n",
       "    <tr style=\"text-align: right;\">\n",
       "      <th></th>\n",
       "      <th>name</th>\n",
       "      <th>regions</th>\n",
       "      <th>start_dt</th>\n",
       "      <th>finish_dt</th>\n",
       "    </tr>\n",
       "  </thead>\n",
       "  <tbody>\n",
       "    <tr>\n",
       "      <th>6</th>\n",
       "      <td>Chinese New Year Promo</td>\n",
       "      <td>APAC</td>\n",
       "      <td>2020-01-25</td>\n",
       "      <td>2020-02-07</td>\n",
       "    </tr>\n",
       "    <tr>\n",
       "      <th>1</th>\n",
       "      <td>St. Valentine's Day Giveaway</td>\n",
       "      <td>EU, CIS, APAC, N.America</td>\n",
       "      <td>2020-02-14</td>\n",
       "      <td>2020-02-16</td>\n",
       "    </tr>\n",
       "    <tr>\n",
       "      <th>8</th>\n",
       "      <td>International Women's Day Promo</td>\n",
       "      <td>EU, CIS, APAC</td>\n",
       "      <td>2020-03-08</td>\n",
       "      <td>2020-03-10</td>\n",
       "    </tr>\n",
       "    <tr>\n",
       "      <th>2</th>\n",
       "      <td>St. Patric's Day Promo</td>\n",
       "      <td>EU, N.America</td>\n",
       "      <td>2020-03-17</td>\n",
       "      <td>2020-03-19</td>\n",
       "    </tr>\n",
       "    <tr>\n",
       "      <th>3</th>\n",
       "      <td>Easter Promo</td>\n",
       "      <td>EU, CIS, APAC, N.America</td>\n",
       "      <td>2020-04-12</td>\n",
       "      <td>2020-04-19</td>\n",
       "    </tr>\n",
       "    <tr>\n",
       "      <th>7</th>\n",
       "      <td>Labor day (May 1st) Ads Campaign</td>\n",
       "      <td>EU, CIS, APAC</td>\n",
       "      <td>2020-05-01</td>\n",
       "      <td>2020-05-03</td>\n",
       "    </tr>\n",
       "    <tr>\n",
       "      <th>9</th>\n",
       "      <td>Victory Day CIS (May 9th) Event</td>\n",
       "      <td>CIS</td>\n",
       "      <td>2020-05-09</td>\n",
       "      <td>2020-05-11</td>\n",
       "    </tr>\n",
       "    <tr>\n",
       "      <th>11</th>\n",
       "      <td>Dragon Boat Festival Giveaway</td>\n",
       "      <td>APAC</td>\n",
       "      <td>2020-06-25</td>\n",
       "      <td>2020-07-01</td>\n",
       "    </tr>\n",
       "    <tr>\n",
       "      <th>4</th>\n",
       "      <td>4th of July Promo</td>\n",
       "      <td>N.America</td>\n",
       "      <td>2020-07-04</td>\n",
       "      <td>2020-07-11</td>\n",
       "    </tr>\n",
       "    <tr>\n",
       "      <th>13</th>\n",
       "      <td>Chinese Moon Festival</td>\n",
       "      <td>APAC</td>\n",
       "      <td>2020-10-01</td>\n",
       "      <td>2020-10-07</td>\n",
       "    </tr>\n",
       "    <tr>\n",
       "      <th>12</th>\n",
       "      <td>Single's Day Gift Promo</td>\n",
       "      <td>APAC</td>\n",
       "      <td>2020-11-11</td>\n",
       "      <td>2020-11-12</td>\n",
       "    </tr>\n",
       "    <tr>\n",
       "      <th>5</th>\n",
       "      <td>Black Friday Ads Campaign</td>\n",
       "      <td>EU, CIS, APAC, N.America</td>\n",
       "      <td>2020-11-26</td>\n",
       "      <td>2020-12-01</td>\n",
       "    </tr>\n",
       "    <tr>\n",
       "      <th>0</th>\n",
       "      <td>Christmas&amp;New Year Promo</td>\n",
       "      <td>EU, N.America</td>\n",
       "      <td>2020-12-25</td>\n",
       "      <td>2021-01-03</td>\n",
       "    </tr>\n",
       "    <tr>\n",
       "      <th>10</th>\n",
       "      <td>CIS New Year Gift Lottery</td>\n",
       "      <td>CIS</td>\n",
       "      <td>2020-12-30</td>\n",
       "      <td>2021-01-07</td>\n",
       "    </tr>\n",
       "  </tbody>\n",
       "</table>\n",
       "</div>"
      ],
      "text/plain": [
       "                                name                   regions    start_dt  \\\n",
       "6             Chinese New Year Promo                      APAC  2020-01-25   \n",
       "1       St. Valentine's Day Giveaway  EU, CIS, APAC, N.America  2020-02-14   \n",
       "8    International Women's Day Promo             EU, CIS, APAC  2020-03-08   \n",
       "2             St. Patric's Day Promo             EU, N.America  2020-03-17   \n",
       "3                       Easter Promo  EU, CIS, APAC, N.America  2020-04-12   \n",
       "7   Labor day (May 1st) Ads Campaign             EU, CIS, APAC  2020-05-01   \n",
       "9    Victory Day CIS (May 9th) Event                       CIS  2020-05-09   \n",
       "11     Dragon Boat Festival Giveaway                      APAC  2020-06-25   \n",
       "4                  4th of July Promo                 N.America  2020-07-04   \n",
       "13             Chinese Moon Festival                      APAC  2020-10-01   \n",
       "12           Single's Day Gift Promo                      APAC  2020-11-11   \n",
       "5          Black Friday Ads Campaign  EU, CIS, APAC, N.America  2020-11-26   \n",
       "0           Christmas&New Year Promo             EU, N.America  2020-12-25   \n",
       "10         CIS New Year Gift Lottery                       CIS  2020-12-30   \n",
       "\n",
       "     finish_dt  \n",
       "6   2020-02-07  \n",
       "1   2020-02-16  \n",
       "8   2020-03-10  \n",
       "2   2020-03-19  \n",
       "3   2020-04-19  \n",
       "7   2020-05-03  \n",
       "9   2020-05-11  \n",
       "11  2020-07-01  \n",
       "4   2020-07-11  \n",
       "13  2020-10-07  \n",
       "12  2020-11-12  \n",
       "5   2020-12-01  \n",
       "0   2021-01-03  \n",
       "10  2021-01-07  "
      ]
     },
     "execution_count": 6,
     "metadata": {},
     "output_type": "execute_result"
    }
   ],
   "source": [
    "# printing the \"marketing_events\" dataset\n",
    "\n",
    "marketing_events.sort_values(by=\"start_dt\")\n"
   ]
  },
  {
   "cell_type": "markdown",
   "id": "41bdb574",
   "metadata": {},
   "source": [
    "### User Events"
   ]
  },
  {
   "cell_type": "code",
   "execution_count": 7,
   "id": "9580b7f9",
   "metadata": {},
   "outputs": [
    {
     "name": "stdout",
     "output_type": "stream",
     "text": [
      "<class 'pandas.core.frame.DataFrame'>\n",
      "RangeIndex: 423761 entries, 0 to 423760\n",
      "Data columns (total 4 columns):\n",
      " #   Column      Non-Null Count   Dtype         \n",
      "---  ------      --------------   -----         \n",
      " 0   user_id     423761 non-null  object        \n",
      " 1   event_dt    423761 non-null  datetime64[ns]\n",
      " 2   event_name  423761 non-null  object        \n",
      " 3   details     60314 non-null   float64       \n",
      "dtypes: datetime64[ns](1), float64(1), object(2)\n",
      "memory usage: 12.9+ MB\n"
     ]
    }
   ],
   "source": [
    "# printing the \"user_events\" dataset info\n",
    "\n",
    "user_events.info()\n"
   ]
  },
  {
   "cell_type": "code",
   "execution_count": 8,
   "id": "0ca0dab5",
   "metadata": {},
   "outputs": [
    {
     "data": {
      "text/plain": [
       "0"
      ]
     },
     "execution_count": 8,
     "metadata": {},
     "output_type": "execute_result"
    }
   ],
   "source": [
    "user_events['user_id'].count()-user_events['details'].isnull().count()"
   ]
  },
  {
   "cell_type": "code",
   "execution_count": 9,
   "id": "fda37c9c",
   "metadata": {
    "scrolled": true
   },
   "outputs": [
    {
     "data": {
      "text/html": [
       "<div>\n",
       "<style scoped>\n",
       "    .dataframe tbody tr th:only-of-type {\n",
       "        vertical-align: middle;\n",
       "    }\n",
       "\n",
       "    .dataframe tbody tr th {\n",
       "        vertical-align: top;\n",
       "    }\n",
       "\n",
       "    .dataframe thead th {\n",
       "        text-align: right;\n",
       "    }\n",
       "</style>\n",
       "<table border=\"1\" class=\"dataframe\">\n",
       "  <thead>\n",
       "    <tr style=\"text-align: right;\">\n",
       "      <th></th>\n",
       "      <th>count</th>\n",
       "      <th>unique</th>\n",
       "      <th>top</th>\n",
       "      <th>freq</th>\n",
       "      <th>first</th>\n",
       "      <th>last</th>\n",
       "      <th>mean</th>\n",
       "      <th>std</th>\n",
       "      <th>min</th>\n",
       "      <th>25%</th>\n",
       "      <th>50%</th>\n",
       "      <th>75%</th>\n",
       "      <th>max</th>\n",
       "    </tr>\n",
       "  </thead>\n",
       "  <tbody>\n",
       "    <tr>\n",
       "      <th>user_id</th>\n",
       "      <td>423761</td>\n",
       "      <td>58703</td>\n",
       "      <td>A3917F81482141F2</td>\n",
       "      <td>36</td>\n",
       "      <td>NaT</td>\n",
       "      <td>NaT</td>\n",
       "      <td>NaN</td>\n",
       "      <td>NaN</td>\n",
       "      <td>NaN</td>\n",
       "      <td>NaN</td>\n",
       "      <td>NaN</td>\n",
       "      <td>NaN</td>\n",
       "      <td>NaN</td>\n",
       "    </tr>\n",
       "    <tr>\n",
       "      <th>event_dt</th>\n",
       "      <td>423761</td>\n",
       "      <td>257138</td>\n",
       "      <td>2020-12-14 18:54:55</td>\n",
       "      <td>10</td>\n",
       "      <td>2020-12-07 00:00:33</td>\n",
       "      <td>2020-12-30 23:36:33</td>\n",
       "      <td>NaN</td>\n",
       "      <td>NaN</td>\n",
       "      <td>NaN</td>\n",
       "      <td>NaN</td>\n",
       "      <td>NaN</td>\n",
       "      <td>NaN</td>\n",
       "      <td>NaN</td>\n",
       "    </tr>\n",
       "    <tr>\n",
       "      <th>event_name</th>\n",
       "      <td>423761</td>\n",
       "      <td>4</td>\n",
       "      <td>login</td>\n",
       "      <td>182465</td>\n",
       "      <td>NaT</td>\n",
       "      <td>NaT</td>\n",
       "      <td>NaN</td>\n",
       "      <td>NaN</td>\n",
       "      <td>NaN</td>\n",
       "      <td>NaN</td>\n",
       "      <td>NaN</td>\n",
       "      <td>NaN</td>\n",
       "      <td>NaN</td>\n",
       "    </tr>\n",
       "    <tr>\n",
       "      <th>details</th>\n",
       "      <td>60314.0</td>\n",
       "      <td>NaN</td>\n",
       "      <td>NaN</td>\n",
       "      <td>NaN</td>\n",
       "      <td>NaT</td>\n",
       "      <td>NaT</td>\n",
       "      <td>23.881219</td>\n",
       "      <td>72.228884</td>\n",
       "      <td>4.99</td>\n",
       "      <td>4.99</td>\n",
       "      <td>4.99</td>\n",
       "      <td>9.99</td>\n",
       "      <td>499.99</td>\n",
       "    </tr>\n",
       "  </tbody>\n",
       "</table>\n",
       "</div>"
      ],
      "text/plain": [
       "              count  unique                  top    freq               first  \\\n",
       "user_id      423761   58703     A3917F81482141F2      36                 NaT   \n",
       "event_dt     423761  257138  2020-12-14 18:54:55      10 2020-12-07 00:00:33   \n",
       "event_name   423761       4                login  182465                 NaT   \n",
       "details     60314.0     NaN                  NaN     NaN                 NaT   \n",
       "\n",
       "                          last       mean        std   min   25%   50%   75%  \\\n",
       "user_id                    NaT        NaN        NaN   NaN   NaN   NaN   NaN   \n",
       "event_dt   2020-12-30 23:36:33        NaN        NaN   NaN   NaN   NaN   NaN   \n",
       "event_name                 NaT        NaN        NaN   NaN   NaN   NaN   NaN   \n",
       "details                    NaT  23.881219  72.228884  4.99  4.99  4.99  9.99   \n",
       "\n",
       "               max  \n",
       "user_id        NaN  \n",
       "event_dt       NaN  \n",
       "event_name     NaN  \n",
       "details     499.99  "
      ]
     },
     "execution_count": 9,
     "metadata": {},
     "output_type": "execute_result"
    }
   ],
   "source": [
    "# printing the \"user_events\" dataset decription\n",
    "\n",
    "user_events.describe(include='all').T\n"
   ]
  },
  {
   "cell_type": "code",
   "execution_count": 10,
   "id": "f29c4874",
   "metadata": {},
   "outputs": [
    {
     "data": {
      "text/html": [
       "<div>\n",
       "<style scoped>\n",
       "    .dataframe tbody tr th:only-of-type {\n",
       "        vertical-align: middle;\n",
       "    }\n",
       "\n",
       "    .dataframe tbody tr th {\n",
       "        vertical-align: top;\n",
       "    }\n",
       "\n",
       "    .dataframe thead th {\n",
       "        text-align: right;\n",
       "    }\n",
       "</style>\n",
       "<table border=\"1\" class=\"dataframe\">\n",
       "  <thead>\n",
       "    <tr style=\"text-align: right;\">\n",
       "      <th></th>\n",
       "      <th>user_id</th>\n",
       "      <th>event_dt</th>\n",
       "      <th>event_name</th>\n",
       "      <th>details</th>\n",
       "    </tr>\n",
       "  </thead>\n",
       "  <tbody>\n",
       "    <tr>\n",
       "      <th>0</th>\n",
       "      <td>E1BDDCE0DAFA2679</td>\n",
       "      <td>2020-12-07 20:22:03</td>\n",
       "      <td>purchase</td>\n",
       "      <td>99.99</td>\n",
       "    </tr>\n",
       "    <tr>\n",
       "      <th>1</th>\n",
       "      <td>7B6452F081F49504</td>\n",
       "      <td>2020-12-07 09:22:53</td>\n",
       "      <td>purchase</td>\n",
       "      <td>9.99</td>\n",
       "    </tr>\n",
       "    <tr>\n",
       "      <th>2</th>\n",
       "      <td>9CD9F34546DF254C</td>\n",
       "      <td>2020-12-07 12:59:29</td>\n",
       "      <td>purchase</td>\n",
       "      <td>4.99</td>\n",
       "    </tr>\n",
       "    <tr>\n",
       "      <th>3</th>\n",
       "      <td>96F27A054B191457</td>\n",
       "      <td>2020-12-07 04:02:40</td>\n",
       "      <td>purchase</td>\n",
       "      <td>4.99</td>\n",
       "    </tr>\n",
       "    <tr>\n",
       "      <th>4</th>\n",
       "      <td>1FD7660FDF94CA1F</td>\n",
       "      <td>2020-12-07 10:15:09</td>\n",
       "      <td>purchase</td>\n",
       "      <td>4.99</td>\n",
       "    </tr>\n",
       "  </tbody>\n",
       "</table>\n",
       "</div>"
      ],
      "text/plain": [
       "            user_id            event_dt event_name  details\n",
       "0  E1BDDCE0DAFA2679 2020-12-07 20:22:03   purchase    99.99\n",
       "1  7B6452F081F49504 2020-12-07 09:22:53   purchase     9.99\n",
       "2  9CD9F34546DF254C 2020-12-07 12:59:29   purchase     4.99\n",
       "3  96F27A054B191457 2020-12-07 04:02:40   purchase     4.99\n",
       "4  1FD7660FDF94CA1F 2020-12-07 10:15:09   purchase     4.99"
      ]
     },
     "execution_count": 10,
     "metadata": {},
     "output_type": "execute_result"
    }
   ],
   "source": [
    "# printing a sample of the \"user_events\" dataset\n",
    "\n",
    "user_events.head()\n"
   ]
  },
  {
   "cell_type": "code",
   "execution_count": 11,
   "id": "b12bf068",
   "metadata": {},
   "outputs": [
    {
     "name": "stdout",
     "output_type": "stream",
     "text": [
      "Overview of 'user_id' column:\n",
      "\n",
      "['E1BDDCE0DAFA2679' '7B6452F081F49504' '9CD9F34546DF254C' ...\n",
      " 'C9F1399FDCD83F13' '4F32B58E4FF19DC5' '27767D4BECDD260E']\n",
      "\n",
      "A3917F81482141F2    36\n",
      "8AEB716C4CD82CA7    32\n",
      "426330B820B8711A    32\n",
      "BA87FD8D70D63CC6    32\n",
      "11285A53EC2B2042    32\n",
      "                    ..\n",
      "DE755BE0D83CF729     1\n",
      "5F55C1716703C6D0     1\n",
      "756910FEB8E6E104     1\n",
      "14A28942B782F678     1\n",
      "031060788BD3E254     1\n",
      "Name: user_id, Length: 58703, dtype: int64\n",
      "\n",
      "------------------------------------\n",
      "\n",
      "Overview of 'event_dt' column:\n",
      "\n",
      "['2020-12-07T20:22:03.000000000' '2020-12-07T09:22:53.000000000'\n",
      " '2020-12-07T12:59:29.000000000' ... '2020-12-30T12:21:24.000000000'\n",
      " '2020-12-30T10:54:15.000000000' '2020-12-30T10:59:09.000000000']\n",
      "\n",
      "2020-12-14 18:54:55    10\n",
      "2020-12-23 02:37:24    10\n",
      "2020-12-20 02:51:18     9\n",
      "2020-12-24 00:54:52     9\n",
      "2020-12-21 21:14:13     9\n",
      "                       ..\n",
      "2020-12-18 20:58:34     1\n",
      "2020-12-18 12:40:24     1\n",
      "2020-12-18 15:18:40     1\n",
      "2020-12-18 05:01:00     1\n",
      "2020-12-30 10:59:09     1\n",
      "Name: event_dt, Length: 257138, dtype: int64\n",
      "\n",
      "------------------------------------\n",
      "\n",
      "Overview of 'event_name' column:\n",
      "\n",
      "['purchase' 'product_cart' 'product_page' 'login']\n",
      "\n",
      "login           182465\n",
      "product_page    120862\n",
      "purchase         60314\n",
      "product_cart     60120\n",
      "Name: event_name, dtype: int64\n",
      "\n",
      "------------------------------------\n",
      "\n",
      "Overview of 'details' column:\n",
      "\n",
      "[ 99.99   9.99   4.99 499.99    nan]\n",
      "\n",
      "4.99      44579\n",
      "9.99       9158\n",
      "99.99      5405\n",
      "499.99     1172\n",
      "Name: details, dtype: int64\n",
      "\n",
      "------------------------------------\n",
      "\n"
     ]
    }
   ],
   "source": [
    "# using a loop for implementing the \"exploration\" function on the \"user_events\" dataset's columns\n",
    "\n",
    "columns = [\"user_id\", \"event_dt\", \"event_name\", \"details\"]\n",
    "\n",
    "for parameter in columns:\n",
    "    exploration(user_events, parameter)\n",
    "    "
   ]
  },
  {
   "cell_type": "markdown",
   "id": "c4597aab",
   "metadata": {},
   "source": [
    "### Users"
   ]
  },
  {
   "cell_type": "code",
   "execution_count": 12,
   "id": "d22ce42d",
   "metadata": {},
   "outputs": [
    {
     "name": "stdout",
     "output_type": "stream",
     "text": [
      "<class 'pandas.core.frame.DataFrame'>\n",
      "RangeIndex: 58703 entries, 0 to 58702\n",
      "Data columns (total 4 columns):\n",
      " #   Column      Non-Null Count  Dtype   \n",
      "---  ------      --------------  -----   \n",
      " 0   user_id     58703 non-null  object  \n",
      " 1   first_date  58703 non-null  object  \n",
      " 2   region      58703 non-null  category\n",
      " 3   device      58703 non-null  category\n",
      "dtypes: category(2), object(2)\n",
      "memory usage: 1.0+ MB\n"
     ]
    }
   ],
   "source": [
    "# printing the \"users\" dataset info\n",
    "\n",
    "users.info()\n"
   ]
  },
  {
   "cell_type": "code",
   "execution_count": 13,
   "id": "6c78f456",
   "metadata": {},
   "outputs": [
    {
     "data": {
      "text/html": [
       "<div>\n",
       "<style scoped>\n",
       "    .dataframe tbody tr th:only-of-type {\n",
       "        vertical-align: middle;\n",
       "    }\n",
       "\n",
       "    .dataframe tbody tr th {\n",
       "        vertical-align: top;\n",
       "    }\n",
       "\n",
       "    .dataframe thead th {\n",
       "        text-align: right;\n",
       "    }\n",
       "</style>\n",
       "<table border=\"1\" class=\"dataframe\">\n",
       "  <thead>\n",
       "    <tr style=\"text-align: right;\">\n",
       "      <th></th>\n",
       "      <th>count</th>\n",
       "      <th>unique</th>\n",
       "      <th>top</th>\n",
       "      <th>freq</th>\n",
       "    </tr>\n",
       "  </thead>\n",
       "  <tbody>\n",
       "    <tr>\n",
       "      <th>user_id</th>\n",
       "      <td>58703</td>\n",
       "      <td>58703</td>\n",
       "      <td>D72A72121175D8BE</td>\n",
       "      <td>1</td>\n",
       "    </tr>\n",
       "    <tr>\n",
       "      <th>first_date</th>\n",
       "      <td>58703</td>\n",
       "      <td>17</td>\n",
       "      <td>2020-12-21</td>\n",
       "      <td>6077</td>\n",
       "    </tr>\n",
       "    <tr>\n",
       "      <th>region</th>\n",
       "      <td>58703</td>\n",
       "      <td>4</td>\n",
       "      <td>EU</td>\n",
       "      <td>43396</td>\n",
       "    </tr>\n",
       "    <tr>\n",
       "      <th>device</th>\n",
       "      <td>58703</td>\n",
       "      <td>4</td>\n",
       "      <td>Android</td>\n",
       "      <td>26159</td>\n",
       "    </tr>\n",
       "  </tbody>\n",
       "</table>\n",
       "</div>"
      ],
      "text/plain": [
       "            count unique               top   freq\n",
       "user_id     58703  58703  D72A72121175D8BE      1\n",
       "first_date  58703     17        2020-12-21   6077\n",
       "region      58703      4                EU  43396\n",
       "device      58703      4           Android  26159"
      ]
     },
     "execution_count": 13,
     "metadata": {},
     "output_type": "execute_result"
    }
   ],
   "source": [
    "# printing the \"users\" dataset decription\n",
    "\n",
    "users.describe(include='all').T\n"
   ]
  },
  {
   "cell_type": "code",
   "execution_count": 14,
   "id": "c885df6e",
   "metadata": {},
   "outputs": [
    {
     "data": {
      "text/html": [
       "<div>\n",
       "<style scoped>\n",
       "    .dataframe tbody tr th:only-of-type {\n",
       "        vertical-align: middle;\n",
       "    }\n",
       "\n",
       "    .dataframe tbody tr th {\n",
       "        vertical-align: top;\n",
       "    }\n",
       "\n",
       "    .dataframe thead th {\n",
       "        text-align: right;\n",
       "    }\n",
       "</style>\n",
       "<table border=\"1\" class=\"dataframe\">\n",
       "  <thead>\n",
       "    <tr style=\"text-align: right;\">\n",
       "      <th></th>\n",
       "      <th>user_id</th>\n",
       "      <th>first_date</th>\n",
       "      <th>region</th>\n",
       "      <th>device</th>\n",
       "    </tr>\n",
       "  </thead>\n",
       "  <tbody>\n",
       "    <tr>\n",
       "      <th>0</th>\n",
       "      <td>D72A72121175D8BE</td>\n",
       "      <td>2020-12-07</td>\n",
       "      <td>EU</td>\n",
       "      <td>PC</td>\n",
       "    </tr>\n",
       "    <tr>\n",
       "      <th>1</th>\n",
       "      <td>F1C668619DFE6E65</td>\n",
       "      <td>2020-12-07</td>\n",
       "      <td>N.America</td>\n",
       "      <td>Android</td>\n",
       "    </tr>\n",
       "    <tr>\n",
       "      <th>2</th>\n",
       "      <td>2E1BF1D4C37EA01F</td>\n",
       "      <td>2020-12-07</td>\n",
       "      <td>EU</td>\n",
       "      <td>PC</td>\n",
       "    </tr>\n",
       "    <tr>\n",
       "      <th>3</th>\n",
       "      <td>50734A22C0C63768</td>\n",
       "      <td>2020-12-07</td>\n",
       "      <td>EU</td>\n",
       "      <td>iPhone</td>\n",
       "    </tr>\n",
       "    <tr>\n",
       "      <th>4</th>\n",
       "      <td>E1BDDCE0DAFA2679</td>\n",
       "      <td>2020-12-07</td>\n",
       "      <td>N.America</td>\n",
       "      <td>iPhone</td>\n",
       "    </tr>\n",
       "  </tbody>\n",
       "</table>\n",
       "</div>"
      ],
      "text/plain": [
       "            user_id  first_date     region   device\n",
       "0  D72A72121175D8BE  2020-12-07         EU       PC\n",
       "1  F1C668619DFE6E65  2020-12-07  N.America  Android\n",
       "2  2E1BF1D4C37EA01F  2020-12-07         EU       PC\n",
       "3  50734A22C0C63768  2020-12-07         EU   iPhone\n",
       "4  E1BDDCE0DAFA2679  2020-12-07  N.America   iPhone"
      ]
     },
     "execution_count": 14,
     "metadata": {},
     "output_type": "execute_result"
    }
   ],
   "source": [
    "# printing a sample of the \"users\" dataset\n",
    "\n",
    "users.head()\n"
   ]
  },
  {
   "cell_type": "code",
   "execution_count": 15,
   "id": "1f36dd7a",
   "metadata": {},
   "outputs": [
    {
     "name": "stdout",
     "output_type": "stream",
     "text": [
      "Overview of 'user_id' column:\n",
      "\n",
      "['D72A72121175D8BE' 'F1C668619DFE6E65' '2E1BF1D4C37EA01F' ...\n",
      " '7ADEE837D5D8CBBD' '1C7D23927835213F' '8F04273BB2860229']\n",
      "\n",
      "D72A72121175D8BE    1\n",
      "87818F11DF867086    1\n",
      "54053B51909746FA    1\n",
      "6286DB850DAC4A39    1\n",
      "39D8D335E253C151    1\n",
      "                   ..\n",
      "9212B9208445C44A    1\n",
      "CD1F82589F1EA3F7    1\n",
      "827B6C860070DF84    1\n",
      "DA6EB5BBD34FFC82    1\n",
      "8F04273BB2860229    1\n",
      "Name: user_id, Length: 58703, dtype: int64\n",
      "\n",
      "------------------------------------\n",
      "\n",
      "Overview of 'first_date' column:\n",
      "\n",
      "['2020-12-07' '2020-12-14' '2020-12-21' '2020-12-08' '2020-12-15'\n",
      " '2020-12-22' '2020-12-09' '2020-12-16' '2020-12-23' '2020-12-10'\n",
      " '2020-12-17' '2020-12-11' '2020-12-18' '2020-12-12' '2020-12-19'\n",
      " '2020-12-13' '2020-12-20']\n",
      "\n",
      "2020-12-21    6077\n",
      "2020-12-14    5448\n",
      "2020-12-07    5291\n",
      "2020-12-13    4181\n",
      "2020-12-20    4140\n",
      "2020-12-12    3591\n",
      "2020-12-19    3480\n",
      "2020-12-18    3238\n",
      "2020-12-22    3083\n",
      "2020-12-08    3017\n",
      "2020-12-17    2940\n",
      "2020-12-15    2924\n",
      "2020-12-10    2784\n",
      "2020-12-11    2226\n",
      "2020-12-23    2180\n",
      "2020-12-16    2093\n",
      "2020-12-09    2010\n",
      "Name: first_date, dtype: int64\n",
      "\n",
      "------------------------------------\n",
      "\n",
      "Overview of 'region' column:\n",
      "\n",
      "['EU', 'N.America', 'APAC', 'CIS']\n",
      "Categories (4, object): ['APAC', 'CIS', 'EU', 'N.America']\n",
      "\n",
      "EU           43396\n",
      "N.America     9051\n",
      "CIS           3130\n",
      "APAC          3126\n",
      "Name: region, dtype: int64\n",
      "\n",
      "------------------------------------\n",
      "\n",
      "Overview of 'device' column:\n",
      "\n",
      "['PC', 'Android', 'iPhone', 'Mac']\n",
      "Categories (4, object): ['Android', 'Mac', 'PC', 'iPhone']\n",
      "\n",
      "Android    26159\n",
      "PC         14845\n",
      "iPhone     11902\n",
      "Mac         5797\n",
      "Name: device, dtype: int64\n",
      "\n",
      "------------------------------------\n",
      "\n"
     ]
    }
   ],
   "source": [
    "# using a loop for implementing the \"exploration\" function on the \"users\" dataset's columns\n",
    "\n",
    "columns = [\"user_id\", \"first_date\", \"region\", \"device\"]\n",
    "\n",
    "for parameter in columns:\n",
    "    exploration(users, parameter)\n"
   ]
  },
  {
   "cell_type": "markdown",
   "id": "9e57a8af",
   "metadata": {},
   "source": [
    "### Participants"
   ]
  },
  {
   "cell_type": "code",
   "execution_count": 16,
   "id": "10e0866e",
   "metadata": {},
   "outputs": [
    {
     "name": "stdout",
     "output_type": "stream",
     "text": [
      "<class 'pandas.core.frame.DataFrame'>\n",
      "RangeIndex: 14525 entries, 0 to 14524\n",
      "Data columns (total 3 columns):\n",
      " #   Column   Non-Null Count  Dtype \n",
      "---  ------   --------------  ----- \n",
      " 0   user_id  14525 non-null  object\n",
      " 1   group    14525 non-null  object\n",
      " 2   ab_test  14525 non-null  object\n",
      "dtypes: object(3)\n",
      "memory usage: 340.6+ KB\n"
     ]
    }
   ],
   "source": [
    "# printing the \"participants\" dataset info\n",
    "\n",
    "participants.info()\n"
   ]
  },
  {
   "cell_type": "code",
   "execution_count": 17,
   "id": "5b0a80d4",
   "metadata": {},
   "outputs": [
    {
     "data": {
      "text/html": [
       "<div>\n",
       "<style scoped>\n",
       "    .dataframe tbody tr th:only-of-type {\n",
       "        vertical-align: middle;\n",
       "    }\n",
       "\n",
       "    .dataframe tbody tr th {\n",
       "        vertical-align: top;\n",
       "    }\n",
       "\n",
       "    .dataframe thead th {\n",
       "        text-align: right;\n",
       "    }\n",
       "</style>\n",
       "<table border=\"1\" class=\"dataframe\">\n",
       "  <thead>\n",
       "    <tr style=\"text-align: right;\">\n",
       "      <th></th>\n",
       "      <th>count</th>\n",
       "      <th>unique</th>\n",
       "      <th>top</th>\n",
       "      <th>freq</th>\n",
       "    </tr>\n",
       "  </thead>\n",
       "  <tbody>\n",
       "    <tr>\n",
       "      <th>user_id</th>\n",
       "      <td>14525</td>\n",
       "      <td>13638</td>\n",
       "      <td>307C06C0E6F09B93</td>\n",
       "      <td>2</td>\n",
       "    </tr>\n",
       "    <tr>\n",
       "      <th>group</th>\n",
       "      <td>14525</td>\n",
       "      <td>2</td>\n",
       "      <td>A</td>\n",
       "      <td>8214</td>\n",
       "    </tr>\n",
       "    <tr>\n",
       "      <th>ab_test</th>\n",
       "      <td>14525</td>\n",
       "      <td>2</td>\n",
       "      <td>interface_eu_test</td>\n",
       "      <td>10850</td>\n",
       "    </tr>\n",
       "  </tbody>\n",
       "</table>\n",
       "</div>"
      ],
      "text/plain": [
       "         count unique                top   freq\n",
       "user_id  14525  13638   307C06C0E6F09B93      2\n",
       "group    14525      2                  A   8214\n",
       "ab_test  14525      2  interface_eu_test  10850"
      ]
     },
     "execution_count": 17,
     "metadata": {},
     "output_type": "execute_result"
    }
   ],
   "source": [
    "# printing the \"participants\" dataset decription\n",
    "\n",
    "participants.describe(include='all').T\n"
   ]
  },
  {
   "cell_type": "code",
   "execution_count": 18,
   "id": "c659eebb",
   "metadata": {},
   "outputs": [
    {
     "data": {
      "text/html": [
       "<div>\n",
       "<style scoped>\n",
       "    .dataframe tbody tr th:only-of-type {\n",
       "        vertical-align: middle;\n",
       "    }\n",
       "\n",
       "    .dataframe tbody tr th {\n",
       "        vertical-align: top;\n",
       "    }\n",
       "\n",
       "    .dataframe thead th {\n",
       "        text-align: right;\n",
       "    }\n",
       "</style>\n",
       "<table border=\"1\" class=\"dataframe\">\n",
       "  <thead>\n",
       "    <tr style=\"text-align: right;\">\n",
       "      <th></th>\n",
       "      <th>user_id</th>\n",
       "      <th>group</th>\n",
       "      <th>ab_test</th>\n",
       "    </tr>\n",
       "  </thead>\n",
       "  <tbody>\n",
       "    <tr>\n",
       "      <th>0</th>\n",
       "      <td>D1ABA3E2887B6A73</td>\n",
       "      <td>A</td>\n",
       "      <td>recommender_system_test</td>\n",
       "    </tr>\n",
       "    <tr>\n",
       "      <th>1</th>\n",
       "      <td>A7A3664BD6242119</td>\n",
       "      <td>A</td>\n",
       "      <td>recommender_system_test</td>\n",
       "    </tr>\n",
       "    <tr>\n",
       "      <th>2</th>\n",
       "      <td>DABC14FDDFADD29E</td>\n",
       "      <td>A</td>\n",
       "      <td>recommender_system_test</td>\n",
       "    </tr>\n",
       "    <tr>\n",
       "      <th>3</th>\n",
       "      <td>04988C5DF189632E</td>\n",
       "      <td>A</td>\n",
       "      <td>recommender_system_test</td>\n",
       "    </tr>\n",
       "    <tr>\n",
       "      <th>4</th>\n",
       "      <td>4FF2998A348C484F</td>\n",
       "      <td>A</td>\n",
       "      <td>recommender_system_test</td>\n",
       "    </tr>\n",
       "  </tbody>\n",
       "</table>\n",
       "</div>"
      ],
      "text/plain": [
       "            user_id group                  ab_test\n",
       "0  D1ABA3E2887B6A73     A  recommender_system_test\n",
       "1  A7A3664BD6242119     A  recommender_system_test\n",
       "2  DABC14FDDFADD29E     A  recommender_system_test\n",
       "3  04988C5DF189632E     A  recommender_system_test\n",
       "4  4FF2998A348C484F     A  recommender_system_test"
      ]
     },
     "execution_count": 18,
     "metadata": {},
     "output_type": "execute_result"
    }
   ],
   "source": [
    "# printing a sample of the \"participants\" dataset\n",
    "\n",
    "participants.head()\n"
   ]
  },
  {
   "cell_type": "code",
   "execution_count": 19,
   "id": "6c790088",
   "metadata": {},
   "outputs": [
    {
     "name": "stdout",
     "output_type": "stream",
     "text": [
      "Overview of 'user_id' column:\n",
      "\n",
      "['D1ABA3E2887B6A73' 'A7A3664BD6242119' 'DABC14FDDFADD29E' ...\n",
      " 'F501F79D332BE86C' '63FBE257B05F2245' '79F9ABFB029CF724']\n",
      "\n",
      "307C06C0E6F09B93    2\n",
      "74C5CCDA7DF761EE    2\n",
      "6445624A3AE163E6    2\n",
      "3A6D88AB973BD99D    2\n",
      "C1E43A9B1D675927    2\n",
      "                   ..\n",
      "B39C1D7760CF809C    1\n",
      "4E6C94A7969F5079    1\n",
      "7EEEA8AA76EC8703    1\n",
      "9EC259921F8521B1    1\n",
      "79F9ABFB029CF724    1\n",
      "Name: user_id, Length: 13638, dtype: int64\n",
      "\n",
      "------------------------------------\n",
      "\n",
      "Overview of 'group' column:\n",
      "\n",
      "['A' 'B']\n",
      "\n",
      "A    8214\n",
      "B    6311\n",
      "Name: group, dtype: int64\n",
      "\n",
      "------------------------------------\n",
      "\n",
      "Overview of 'ab_test' column:\n",
      "\n",
      "['recommender_system_test' 'interface_eu_test']\n",
      "\n",
      "interface_eu_test          10850\n",
      "recommender_system_test     3675\n",
      "Name: ab_test, dtype: int64\n",
      "\n",
      "------------------------------------\n",
      "\n"
     ]
    }
   ],
   "source": [
    "# using a loop for implementing the \"exploration\" function on the \"participants\" dataset's columns\n",
    "\n",
    "columns = [\"user_id\", \"group\", \"ab_test\"]\n",
    "\n",
    "for parameter in columns:\n",
    "    exploration(participants, parameter)\n",
    "    "
   ]
  },
  {
   "cell_type": "markdown",
   "id": "de8b4d5c",
   "metadata": {},
   "source": [
    "### Summary"
   ]
  },
  {
   "cell_type": "markdown",
   "id": "6c4c3e70",
   "metadata": {},
   "source": [
    "1. marketing_events\n",
    "    * The dataset has 4 columns and 14 rows;\n",
    "    * Most events are for specific regions, about 3 are for all regions. \n",
    "    \n",
    "    \n",
    "2. user_events\n",
    "    * The dataset has 4 columns and 423,761 rows;\n",
    "    * The \"details\" column has only 60,314 non null values - the nature of the null values will be examined in the next section;\n",
    "    * There are 58,703 users and 257,138 event dates and 4 types of events (the most common are \"login\" and \"product_page\";\n",
    "    * There are only 4 prices: 4.99, 9.99, 99.99 and 499.99. 4.99 is by far the most frequent. \n",
    "\n",
    "\n",
    "3. users\n",
    "    * The dataset has 4 columns and 58,703 rows (matches the number of users in the \"user_events\" dataset);\n",
    "    * The most common region and sign up device are EU and Android (then PC), respectively;\n",
    "    * Most users signed up on December 7th, the 14th and the 21st, 2020;\n",
    "    * There are users who signed up after the exclusion date (December 21st).\n",
    "\n",
    "\n",
    "4. participants\n",
    "    * The dataset has 3 columns and 14,525 rows;\n",
    "    * There are only 13,638 participants in the dataset (meaning there are a lot of users who aren't participants);\n",
    "    * 3/4 of the participants (10,850 to be exact) participated in the \"interface_eu_test\" (not the test analyzed in this report);\n",
    "    * This dataset is an early indication that the test was not performed as intended: 3,675 participants instead of 6,000 and it seems that some might be participants of the other test as well. "
   ]
  },
  {
   "cell_type": "markdown",
   "id": "03426f3c",
   "metadata": {},
   "source": [
    "## Data Preprocessing"
   ]
  },
  {
   "cell_type": "markdown",
   "id": "1af4b7ff",
   "metadata": {},
   "source": [
    "In this section I will perform data preprocessing - convert data types, explore duplicates and null values and more. "
   ]
  },
  {
   "cell_type": "code",
   "execution_count": 20,
   "id": "05d64750",
   "metadata": {},
   "outputs": [],
   "source": [
    "# creating a function to print the number of duplicate and null values in each column of a selected dataset\n",
    "\n",
    "def dupes_and_nulls(data):\n",
    "    for i in data[data.duplicated()].columns:\n",
    "        print('Number of duplicate values in \"{}\" column: {}'.format(i, \n",
    "                        data[data.duplicated()][i].nunique()))\n",
    "    print('----------------------')\n",
    "    for i in data:\n",
    "        if data[i].isnull().sum()>0:\n",
    "            print('Number of null values in \"{}\" column: {}'.format(i, data[i].isnull().sum()))\n",
    "        else:\n",
    "            print('No null values in \"{}\" column'.format(i))\n",
    "            "
   ]
  },
  {
   "cell_type": "markdown",
   "id": "7e7edce4",
   "metadata": {},
   "source": [
    "### Marketing Events"
   ]
  },
  {
   "cell_type": "code",
   "execution_count": 21,
   "id": "2c717072",
   "metadata": {},
   "outputs": [
    {
     "name": "stdout",
     "output_type": "stream",
     "text": [
      "<class 'pandas.core.frame.DataFrame'>\n",
      "RangeIndex: 14 entries, 0 to 13\n",
      "Data columns (total 4 columns):\n",
      " #   Column     Non-Null Count  Dtype         \n",
      "---  ------     --------------  -----         \n",
      " 0   name       14 non-null     object        \n",
      " 1   regions    14 non-null     object        \n",
      " 2   start_dt   14 non-null     datetime64[ns]\n",
      " 3   finish_dt  14 non-null     datetime64[ns]\n",
      "dtypes: datetime64[ns](2), object(2)\n",
      "memory usage: 576.0+ bytes\n"
     ]
    }
   ],
   "source": [
    "# converting the \"start_dt\" and \"finish_dt\" columns to datetime and checking the implementation by printing info\n",
    "\n",
    "marketing_events['start_dt'] = marketing_events['start_dt'].map(lambda x: dt.datetime.strptime(x, '%Y-%m-%d'))\n",
    "marketing_events['finish_dt'] = marketing_events['finish_dt'].map(lambda x: dt.datetime.strptime(x, '%Y-%m-%d'))\n",
    "marketing_events.info('deep')\n"
   ]
  },
  {
   "cell_type": "markdown",
   "id": "478201f1",
   "metadata": {},
   "source": [
    "In the marketing_events dataset, little preprocessing was required - only converting the data types of two columns to datetime. "
   ]
  },
  {
   "cell_type": "markdown",
   "id": "81f79df6",
   "metadata": {},
   "source": [
    "### User Events"
   ]
  },
  {
   "cell_type": "code",
   "execution_count": 22,
   "id": "a30953c3",
   "metadata": {},
   "outputs": [
    {
     "name": "stdout",
     "output_type": "stream",
     "text": [
      "<class 'pandas.core.frame.DataFrame'>\n",
      "RangeIndex: 423761 entries, 0 to 423760\n",
      "Data columns (total 4 columns):\n",
      " #   Column      Non-Null Count   Dtype         \n",
      "---  ------      --------------   -----         \n",
      " 0   user_id     423761 non-null  object        \n",
      " 1   event_dt    423761 non-null  datetime64[ns]\n",
      " 2   event_name  423761 non-null  object        \n",
      " 3   details     60314 non-null   float64       \n",
      "dtypes: datetime64[ns](1), float64(1), object(2)\n",
      "memory usage: 12.9+ MB\n"
     ]
    }
   ],
   "source": [
    "# checking whether there's need to alter datatypes in the \"user_events\" dataset by printing info\n",
    "\n",
    "user_events.info('deep')\n"
   ]
  },
  {
   "cell_type": "markdown",
   "id": "be738c2b",
   "metadata": {},
   "source": [
    "In this dataset, there is no need to convert data types. However, the null values are significant and their nature needs to be explored. "
   ]
  },
  {
   "cell_type": "code",
   "execution_count": 23,
   "id": "6037749e",
   "metadata": {},
   "outputs": [
    {
     "name": "stdout",
     "output_type": "stream",
     "text": [
      "Number of duplicate values in \"user_id\" column: 0\n",
      "Number of duplicate values in \"event_dt\" column: 0\n",
      "Number of duplicate values in \"event_name\" column: 0\n",
      "Number of duplicate values in \"details\" column: 0\n",
      "----------------------\n",
      "No null values in \"user_id\" column\n",
      "No null values in \"event_dt\" column\n",
      "No null values in \"event_name\" column\n",
      "Number of null values in \"details\" column: 363447\n"
     ]
    }
   ],
   "source": [
    "# implementing the \"dupes_and_nulls\" function on the \"user_events\" dataset's columns\n",
    "\n",
    "dupes_and_nulls(user_events)\n"
   ]
  },
  {
   "cell_type": "code",
   "execution_count": 24,
   "id": "e43bb43c",
   "metadata": {},
   "outputs": [],
   "source": [
    "# creating a table with only the null values in the \"details\" column of the \"user_events\" dataset\n",
    "\n",
    "null_details = user_events[(user_events.details.isnull())]\n"
   ]
  },
  {
   "cell_type": "code",
   "execution_count": 25,
   "id": "bba06395",
   "metadata": {},
   "outputs": [
    {
     "name": "stdout",
     "output_type": "stream",
     "text": [
      "The percent of null values in the 'details' column is 85.77%.\n"
     ]
    }
   ],
   "source": [
    "# checking the percentage of null values \n",
    "\n",
    "print(\"\"\"The percent of null values in the 'details' column is {:.2f}%.\"\"\".format\n",
    "      (len(null_details)/len(user_events)*100))\n"
   ]
  },
  {
   "cell_type": "code",
   "execution_count": 26,
   "id": "959d4590",
   "metadata": {},
   "outputs": [
    {
     "data": {
      "text/html": [
       "<div>\n",
       "<style scoped>\n",
       "    .dataframe tbody tr th:only-of-type {\n",
       "        vertical-align: middle;\n",
       "    }\n",
       "\n",
       "    .dataframe tbody tr th {\n",
       "        vertical-align: top;\n",
       "    }\n",
       "\n",
       "    .dataframe thead th {\n",
       "        text-align: right;\n",
       "    }\n",
       "</style>\n",
       "<table border=\"1\" class=\"dataframe\">\n",
       "  <thead>\n",
       "    <tr style=\"text-align: right;\">\n",
       "      <th></th>\n",
       "      <th>user_id</th>\n",
       "      <th>event_dt</th>\n",
       "      <th>details</th>\n",
       "    </tr>\n",
       "    <tr>\n",
       "      <th>event_name</th>\n",
       "      <th></th>\n",
       "      <th></th>\n",
       "      <th></th>\n",
       "    </tr>\n",
       "  </thead>\n",
       "  <tbody>\n",
       "    <tr>\n",
       "      <th>login</th>\n",
       "      <td>182465</td>\n",
       "      <td>182465</td>\n",
       "      <td>0</td>\n",
       "    </tr>\n",
       "    <tr>\n",
       "      <th>product_cart</th>\n",
       "      <td>60120</td>\n",
       "      <td>60120</td>\n",
       "      <td>0</td>\n",
       "    </tr>\n",
       "    <tr>\n",
       "      <th>product_page</th>\n",
       "      <td>120862</td>\n",
       "      <td>120862</td>\n",
       "      <td>0</td>\n",
       "    </tr>\n",
       "  </tbody>\n",
       "</table>\n",
       "</div>"
      ],
      "text/plain": [
       "              user_id  event_dt  details\n",
       "event_name                              \n",
       "login          182465    182465        0\n",
       "product_cart    60120     60120        0\n",
       "product_page   120862    120862        0"
      ]
     },
     "execution_count": 26,
     "metadata": {},
     "output_type": "execute_result"
    }
   ],
   "source": [
    "# checking whether there are null values in all of the events, including \"purchase\"\n",
    "\n",
    "null_details.groupby('event_name').count()\n"
   ]
  },
  {
   "cell_type": "markdown",
   "id": "a253de46",
   "metadata": {},
   "source": [
    "Even though more than 85% of the values in the \"details\" column are null - there is a reasonable explanation for this and there is no need to remove them or fill them. The details is the priced paid for products users purchased and there are no null values for the \"purchase\" event. "
   ]
  },
  {
   "cell_type": "code",
   "execution_count": 27,
   "id": "1572af88",
   "metadata": {},
   "outputs": [
    {
     "name": "stdout",
     "output_type": "stream",
     "text": [
      "The earliest date in the 'user_events' dataset is: 2020-12-07 00:00:33\n",
      "The latest date in the 'user_events' dataset is: 2020-12-30 23:36:33\n"
     ]
    }
   ],
   "source": [
    "# locating the earlier and latest dates in the \"user_events\" dataset\n",
    "\n",
    "print(\"\"\"The earliest date in the 'user_events' dataset is: {}\n",
    "The latest date in the 'user_events' dataset is: {}\"\"\".format(user_events.event_dt.min(), user_events.event_dt.max()))\n"
   ]
  },
  {
   "cell_type": "markdown",
   "id": "65fe6bac",
   "metadata": {},
   "source": [
    "The dates of the test are from December 7th, 2020, till January 1st, 2021 - so there is no need to remove events since they all fall within these dates. "
   ]
  },
  {
   "cell_type": "markdown",
   "id": "d9afea0a",
   "metadata": {},
   "source": [
    "### Users"
   ]
  },
  {
   "cell_type": "code",
   "execution_count": 28,
   "id": "17e71065",
   "metadata": {},
   "outputs": [
    {
     "name": "stdout",
     "output_type": "stream",
     "text": [
      "<class 'pandas.core.frame.DataFrame'>\n",
      "RangeIndex: 58703 entries, 0 to 58702\n",
      "Data columns (total 4 columns):\n",
      " #   Column      Non-Null Count  Dtype         \n",
      "---  ------      --------------  -----         \n",
      " 0   user_id     58703 non-null  object        \n",
      " 1   first_date  58703 non-null  datetime64[ns]\n",
      " 2   region      58703 non-null  category      \n",
      " 3   device      58703 non-null  category      \n",
      "dtypes: category(2), datetime64[ns](1), object(1)\n",
      "memory usage: 1.0+ MB\n"
     ]
    }
   ],
   "source": [
    "# converting the \"first_date\" column to datetime and checking the implementation by printing info\n",
    "\n",
    "users['first_date'] = users['first_date'].map(lambda x: dt.datetime.strptime(x, '%Y-%m-%d'))\n",
    "users.info('deep')"
   ]
  },
  {
   "cell_type": "code",
   "execution_count": 29,
   "id": "1eec63d4",
   "metadata": {},
   "outputs": [
    {
     "name": "stdout",
     "output_type": "stream",
     "text": [
      "The earliest date in the 'users' dataset is: 2020-12-07 00:00:00\n",
      "The latest date in the 'users' dataset is: 2020-12-23 00:00:00\n"
     ]
    }
   ],
   "source": [
    "# locating the earlier and latest dates in the \"users\" dataset\n",
    "\n",
    "print(\"\"\"The earliest date in the 'users' dataset is: {}\n",
    "The latest date in the 'users' dataset is: {}\"\"\".format(users.first_date.min(), users.first_date.max()))"
   ]
  },
  {
   "cell_type": "code",
   "execution_count": 30,
   "id": "ca4e562e",
   "metadata": {},
   "outputs": [
    {
     "name": "stdout",
     "output_type": "stream",
     "text": [
      "Number of duplicate values in \"user_id\" column: 0\n",
      "Number of duplicate values in \"first_date\" column: 0\n",
      "Number of duplicate values in \"region\" column: 0\n",
      "Number of duplicate values in \"device\" column: 0\n",
      "----------------------\n",
      "No null values in \"user_id\" column\n",
      "No null values in \"first_date\" column\n",
      "No null values in \"region\" column\n",
      "No null values in \"device\" column\n"
     ]
    }
   ],
   "source": [
    "# implementing the \"dupes_and_nulls\" function on the \"users\" dataset's columns\n",
    "\n",
    "dupes_and_nulls(users)\n"
   ]
  },
  {
   "cell_type": "markdown",
   "id": "2b449bcd",
   "metadata": {},
   "source": [
    "In this dataset, there was an incorrect data type for the \"first_date\" column and there are users who signed up after December 21st, 2020. "
   ]
  },
  {
   "cell_type": "markdown",
   "id": "22d1aa47",
   "metadata": {},
   "source": [
    "### Participants"
   ]
  },
  {
   "cell_type": "code",
   "execution_count": 31,
   "id": "b97d4a22",
   "metadata": {},
   "outputs": [
    {
     "name": "stdout",
     "output_type": "stream",
     "text": [
      "Number of duplicate values in \"user_id\" column: 0\n",
      "Number of duplicate values in \"group\" column: 0\n",
      "Number of duplicate values in \"ab_test\" column: 0\n",
      "----------------------\n",
      "No null values in \"user_id\" column\n",
      "No null values in \"group\" column\n",
      "No null values in \"ab_test\" column\n"
     ]
    }
   ],
   "source": [
    "# implementing the \"dupes_and_nulls\" function on the \"participants\" dataset's columns\n",
    "\n",
    "dupes_and_nulls(participants)\n"
   ]
  },
  {
   "cell_type": "markdown",
   "id": "7de4c494",
   "metadata": {},
   "source": [
    "### Checking Registration Date and Filtering Data"
   ]
  },
  {
   "cell_type": "code",
   "execution_count": 32,
   "id": "43dde240",
   "metadata": {},
   "outputs": [
    {
     "data": {
      "text/html": [
       "<div>\n",
       "<style scoped>\n",
       "    .dataframe tbody tr th:only-of-type {\n",
       "        vertical-align: middle;\n",
       "    }\n",
       "\n",
       "    .dataframe tbody tr th {\n",
       "        vertical-align: top;\n",
       "    }\n",
       "\n",
       "    .dataframe thead th {\n",
       "        text-align: right;\n",
       "    }\n",
       "</style>\n",
       "<table border=\"1\" class=\"dataframe\">\n",
       "  <thead>\n",
       "    <tr style=\"text-align: right;\">\n",
       "      <th></th>\n",
       "      <th>user_id</th>\n",
       "      <th>first_date</th>\n",
       "      <th>region</th>\n",
       "      <th>device</th>\n",
       "    </tr>\n",
       "  </thead>\n",
       "  <tbody>\n",
       "    <tr>\n",
       "      <th>22757</th>\n",
       "      <td>5815F7ECE74D949F</td>\n",
       "      <td>2020-12-22</td>\n",
       "      <td>CIS</td>\n",
       "      <td>PC</td>\n",
       "    </tr>\n",
       "    <tr>\n",
       "      <th>22758</th>\n",
       "      <td>32EAEA5E903E3BC1</td>\n",
       "      <td>2020-12-22</td>\n",
       "      <td>N.America</td>\n",
       "      <td>Android</td>\n",
       "    </tr>\n",
       "    <tr>\n",
       "      <th>22759</th>\n",
       "      <td>9DF7A3C46487EF0B</td>\n",
       "      <td>2020-12-22</td>\n",
       "      <td>EU</td>\n",
       "      <td>Android</td>\n",
       "    </tr>\n",
       "    <tr>\n",
       "      <th>22760</th>\n",
       "      <td>ADE98C6440423287</td>\n",
       "      <td>2020-12-22</td>\n",
       "      <td>EU</td>\n",
       "      <td>iPhone</td>\n",
       "    </tr>\n",
       "    <tr>\n",
       "      <th>22761</th>\n",
       "      <td>5A5833D3AEA75255</td>\n",
       "      <td>2020-12-22</td>\n",
       "      <td>N.America</td>\n",
       "      <td>PC</td>\n",
       "    </tr>\n",
       "    <tr>\n",
       "      <th>...</th>\n",
       "      <td>...</td>\n",
       "      <td>...</td>\n",
       "      <td>...</td>\n",
       "      <td>...</td>\n",
       "    </tr>\n",
       "    <tr>\n",
       "      <th>32118</th>\n",
       "      <td>165AFCBF42C043F8</td>\n",
       "      <td>2020-12-23</td>\n",
       "      <td>EU</td>\n",
       "      <td>PC</td>\n",
       "    </tr>\n",
       "    <tr>\n",
       "      <th>32119</th>\n",
       "      <td>54E7F36C0E976E24</td>\n",
       "      <td>2020-12-23</td>\n",
       "      <td>EU</td>\n",
       "      <td>Android</td>\n",
       "    </tr>\n",
       "    <tr>\n",
       "      <th>32120</th>\n",
       "      <td>7E43EB2E03A33E78</td>\n",
       "      <td>2020-12-23</td>\n",
       "      <td>EU</td>\n",
       "      <td>PC</td>\n",
       "    </tr>\n",
       "    <tr>\n",
       "      <th>32121</th>\n",
       "      <td>B8B679DEE9F2CA06</td>\n",
       "      <td>2020-12-23</td>\n",
       "      <td>EU</td>\n",
       "      <td>PC</td>\n",
       "    </tr>\n",
       "    <tr>\n",
       "      <th>32122</th>\n",
       "      <td>BE595EE3E9D59FB9</td>\n",
       "      <td>2020-12-23</td>\n",
       "      <td>EU</td>\n",
       "      <td>PC</td>\n",
       "    </tr>\n",
       "  </tbody>\n",
       "</table>\n",
       "<p>5263 rows × 4 columns</p>\n",
       "</div>"
      ],
      "text/plain": [
       "                user_id first_date     region   device\n",
       "22757  5815F7ECE74D949F 2020-12-22        CIS       PC\n",
       "22758  32EAEA5E903E3BC1 2020-12-22  N.America  Android\n",
       "22759  9DF7A3C46487EF0B 2020-12-22         EU  Android\n",
       "22760  ADE98C6440423287 2020-12-22         EU   iPhone\n",
       "22761  5A5833D3AEA75255 2020-12-22  N.America       PC\n",
       "...                 ...        ...        ...      ...\n",
       "32118  165AFCBF42C043F8 2020-12-23         EU       PC\n",
       "32119  54E7F36C0E976E24 2020-12-23         EU  Android\n",
       "32120  7E43EB2E03A33E78 2020-12-23         EU       PC\n",
       "32121  B8B679DEE9F2CA06 2020-12-23         EU       PC\n",
       "32122  BE595EE3E9D59FB9 2020-12-23         EU       PC\n",
       "\n",
       "[5263 rows x 4 columns]"
      ]
     },
     "execution_count": 32,
     "metadata": {},
     "output_type": "execute_result"
    }
   ],
   "source": [
    "# creating a table of users who registered after December 21st, 2020\n",
    "\n",
    "past_date = users.query('first_date > \"2020-12-21\"')\n",
    "past_date # printing the \"past_date\" table\n"
   ]
  },
  {
   "cell_type": "markdown",
   "id": "d0c69361",
   "metadata": {},
   "source": [
    "#### Filtering the Users Dataset"
   ]
  },
  {
   "cell_type": "code",
   "execution_count": 33,
   "id": "0597e5e6",
   "metadata": {},
   "outputs": [
    {
     "name": "stdout",
     "output_type": "stream",
     "text": [
      "<class 'pandas.core.frame.DataFrame'>\n",
      "Int64Index: 53440 entries, 0 to 58702\n",
      "Data columns (total 4 columns):\n",
      " #   Column      Non-Null Count  Dtype         \n",
      "---  ------      --------------  -----         \n",
      " 0   user_id     53440 non-null  object        \n",
      " 1   first_date  53440 non-null  datetime64[ns]\n",
      " 2   region      53440 non-null  category      \n",
      " 3   device      53440 non-null  category      \n",
      "dtypes: category(2), datetime64[ns](1), object(1)\n",
      "memory usage: 1.3+ MB\n"
     ]
    }
   ],
   "source": [
    "# creating a new \"users\" dataset without users who signed up after December 21st, 2020\n",
    "\n",
    "filtered_users = users[~users.user_id.isin(past_date['user_id'])]\n",
    "filtered_users.info()"
   ]
  },
  {
   "cell_type": "code",
   "execution_count": 34,
   "id": "a3c17506",
   "metadata": {
    "scrolled": false
   },
   "outputs": [
    {
     "data": {
      "text/html": [
       "<div>\n",
       "<style scoped>\n",
       "    .dataframe tbody tr th:only-of-type {\n",
       "        vertical-align: middle;\n",
       "    }\n",
       "\n",
       "    .dataframe tbody tr th {\n",
       "        vertical-align: top;\n",
       "    }\n",
       "\n",
       "    .dataframe thead th {\n",
       "        text-align: right;\n",
       "    }\n",
       "</style>\n",
       "<table border=\"1\" class=\"dataframe\">\n",
       "  <thead>\n",
       "    <tr style=\"text-align: right;\">\n",
       "      <th></th>\n",
       "      <th>first_date</th>\n",
       "      <th>user_id</th>\n",
       "    </tr>\n",
       "  </thead>\n",
       "  <tbody>\n",
       "    <tr>\n",
       "      <th>0</th>\n",
       "      <td>2020-12-07</td>\n",
       "      <td>5291</td>\n",
       "    </tr>\n",
       "    <tr>\n",
       "      <th>1</th>\n",
       "      <td>2020-12-08</td>\n",
       "      <td>3017</td>\n",
       "    </tr>\n",
       "    <tr>\n",
       "      <th>2</th>\n",
       "      <td>2020-12-09</td>\n",
       "      <td>2010</td>\n",
       "    </tr>\n",
       "    <tr>\n",
       "      <th>3</th>\n",
       "      <td>2020-12-10</td>\n",
       "      <td>2784</td>\n",
       "    </tr>\n",
       "    <tr>\n",
       "      <th>4</th>\n",
       "      <td>2020-12-11</td>\n",
       "      <td>2226</td>\n",
       "    </tr>\n",
       "    <tr>\n",
       "      <th>5</th>\n",
       "      <td>2020-12-12</td>\n",
       "      <td>3591</td>\n",
       "    </tr>\n",
       "    <tr>\n",
       "      <th>6</th>\n",
       "      <td>2020-12-13</td>\n",
       "      <td>4181</td>\n",
       "    </tr>\n",
       "    <tr>\n",
       "      <th>7</th>\n",
       "      <td>2020-12-14</td>\n",
       "      <td>5448</td>\n",
       "    </tr>\n",
       "    <tr>\n",
       "      <th>8</th>\n",
       "      <td>2020-12-15</td>\n",
       "      <td>2924</td>\n",
       "    </tr>\n",
       "    <tr>\n",
       "      <th>9</th>\n",
       "      <td>2020-12-16</td>\n",
       "      <td>2093</td>\n",
       "    </tr>\n",
       "    <tr>\n",
       "      <th>10</th>\n",
       "      <td>2020-12-17</td>\n",
       "      <td>2940</td>\n",
       "    </tr>\n",
       "    <tr>\n",
       "      <th>11</th>\n",
       "      <td>2020-12-18</td>\n",
       "      <td>3238</td>\n",
       "    </tr>\n",
       "    <tr>\n",
       "      <th>12</th>\n",
       "      <td>2020-12-19</td>\n",
       "      <td>3480</td>\n",
       "    </tr>\n",
       "    <tr>\n",
       "      <th>13</th>\n",
       "      <td>2020-12-20</td>\n",
       "      <td>4140</td>\n",
       "    </tr>\n",
       "    <tr>\n",
       "      <th>14</th>\n",
       "      <td>2020-12-21</td>\n",
       "      <td>6077</td>\n",
       "    </tr>\n",
       "  </tbody>\n",
       "</table>\n",
       "</div>"
      ],
      "text/plain": [
       "   first_date  user_id\n",
       "0  2020-12-07     5291\n",
       "1  2020-12-08     3017\n",
       "2  2020-12-09     2010\n",
       "3  2020-12-10     2784\n",
       "4  2020-12-11     2226\n",
       "5  2020-12-12     3591\n",
       "6  2020-12-13     4181\n",
       "7  2020-12-14     5448\n",
       "8  2020-12-15     2924\n",
       "9  2020-12-16     2093\n",
       "10 2020-12-17     2940\n",
       "11 2020-12-18     3238\n",
       "12 2020-12-19     3480\n",
       "13 2020-12-20     4140\n",
       "14 2020-12-21     6077"
      ]
     },
     "execution_count": 34,
     "metadata": {},
     "output_type": "execute_result"
    }
   ],
   "source": [
    "# checking how many users signed up on each date \n",
    "\n",
    "filtered_users.groupby('first_date')['user_id'].count().reset_index()\n"
   ]
  },
  {
   "cell_type": "code",
   "execution_count": null,
   "id": "951a488b",
   "metadata": {},
   "outputs": [],
   "source": [
    "# checking that filtering didn't distort the distribution \n",
    "\n",
    "fig = make_subplots(rows=2, cols=2, shared_yaxes=True, subplot_titles=\n",
    "                    (\"Regional Distribution\",\"Device Distribution\"))\n",
    "\n",
    "fig.add_trace(go.Histogram(x=users['region'], y=users['user_id'], name=\"Not Filtered\",\n",
    "                    marker=dict(color=[px.colors.sequential.Pinkyl_r], coloraxis=\"coloraxis\")), 1, 1)\n",
    "\n",
    "fig.add_trace(go.Histogram(x=filtered_users['region'], y=filtered_users['user_id'],name=\"Filtered\",\n",
    "                    marker=dict(color=[px.colors.sequential.Pinkyl_r], coloraxis=\"coloraxis\")),\n",
    "              2, 1)\n",
    "\n",
    "fig.add_trace(go.Histogram(x=users['device'], y=users['user_id'],name=\"Not Filtered\",\n",
    "                    marker=dict(color=[px.colors.sequential.Pinkyl_r], coloraxis=\"coloraxis\")),\n",
    "              1, 2)\n",
    "\n",
    "fig.add_trace(go.Histogram(x=filtered_users['device'], y=filtered_users['user_id'],name=\"Filtered\",\n",
    "                    marker=dict(color=[px.colors.sequential.Pinkyl_r], coloraxis=\"coloraxis\")),\n",
    "              2, 2)\n",
    "\n",
    "fig.update_traces(marker=dict(color=(px.colors.sequential.Teal)))\n",
    "fig.update_layout(showlegend=False, title_text=\"Distribution Before and After Filteration\", yaxis=dict(\n",
    "        title='Number of Users'))\n",
    "fig.show()\n"
   ]
  },
  {
   "cell_type": "markdown",
   "id": "20beaa3c",
   "metadata": {},
   "source": [
    "#### Filtering the User Events Dataset"
   ]
  },
  {
   "cell_type": "code",
   "execution_count": 35,
   "id": "2d0a06cd",
   "metadata": {},
   "outputs": [
    {
     "name": "stdout",
     "output_type": "stream",
     "text": [
      "<class 'pandas.core.frame.DataFrame'>\n",
      "Int64Index: 394657 entries, 0 to 423760\n",
      "Data columns (total 4 columns):\n",
      " #   Column      Non-Null Count   Dtype         \n",
      "---  ------      --------------   -----         \n",
      " 0   user_id     394657 non-null  object        \n",
      " 1   event_dt    394657 non-null  datetime64[ns]\n",
      " 2   event_name  394657 non-null  object        \n",
      " 3   details     56170 non-null   float64       \n",
      "dtypes: datetime64[ns](1), float64(1), object(2)\n",
      "memory usage: 15.1+ MB\n"
     ]
    }
   ],
   "source": [
    "# creating a new \"user_events\" dataset without users who signed up after December 21st, 2020\n",
    "\n",
    "filtered_user_events = user_events[~user_events.user_id.isin(past_date['user_id'])]\n",
    "filtered_user_events.info()\n"
   ]
  },
  {
   "cell_type": "code",
   "execution_count": null,
   "id": "12143677",
   "metadata": {},
   "outputs": [],
   "source": [
    "# checking that filtering didn't distort the distribution \n",
    "\n",
    "fig = make_subplots(rows=1, cols=2, shared_yaxes=True, subplot_titles=\n",
    "                    (\"Original Distribution\",\"Filtered Distribution\"))\n",
    "\n",
    "fig.add_trace(go.Histogram(x=user_events['event_name'], y=user_events['user_id'], name=\"Not Filtered\",\n",
    "                    marker=dict(coloraxis=\"coloraxis\")), 1, 1)\n",
    "\n",
    "fig.add_trace(go.Histogram(x=filtered_user_events['event_name'], y=filtered_user_events['user_id'],name=\"Filtered\",\n",
    "                    marker=dict(coloraxis=\"coloraxis\")),\n",
    "              1, 2)\n",
    "\n",
    "fig.update_traces(marker=dict(color=(px.colors.sequential.Teal_r)))\n",
    "fig.update_layout(showlegend=False, title_text=\"Distribution Before and After Filteration\", yaxis=dict(\n",
    "        title='Number of Users'))\n",
    "fig.show()\n"
   ]
  },
  {
   "cell_type": "markdown",
   "id": "b92ccd23",
   "metadata": {},
   "source": [
    "#### Filtering the Participants Dataset"
   ]
  },
  {
   "cell_type": "code",
   "execution_count": 36,
   "id": "0e290ccc",
   "metadata": {},
   "outputs": [
    {
     "name": "stdout",
     "output_type": "stream",
     "text": [
      "<class 'pandas.core.frame.DataFrame'>\n",
      "Int64Index: 13523 entries, 0 to 14524\n",
      "Data columns (total 3 columns):\n",
      " #   Column   Non-Null Count  Dtype \n",
      "---  ------   --------------  ----- \n",
      " 0   user_id  13523 non-null  object\n",
      " 1   group    13523 non-null  object\n",
      " 2   ab_test  13523 non-null  object\n",
      "dtypes: object(3)\n",
      "memory usage: 422.6+ KB\n"
     ]
    }
   ],
   "source": [
    "# creating a new \"participants\" dataset without users who signed up after December 21st, 2020\n",
    "\n",
    "filtered_participants = participants[~participants.user_id.isin(past_date['user_id'])]\n",
    "filtered_participants.info()\n"
   ]
  },
  {
   "cell_type": "code",
   "execution_count": null,
   "id": "57bf55e9",
   "metadata": {},
   "outputs": [],
   "source": [
    "# checking that filtering didn't distort the distribution \n",
    "\n",
    "fig = make_subplots(rows=2, cols=2, shared_yaxes=True, subplot_titles=\n",
    "                    (\"Original Distribution\",\"Filtered Distribution\"))\n",
    "\n",
    "fig.add_trace(go.Histogram(x=participants['group'], y=participants['user_id'], name=\"Not Filtered\",\n",
    "                    marker=dict(coloraxis=\"coloraxis\")), 1, 1)\n",
    "\n",
    "fig.add_trace(go.Histogram(x=filtered_participants['group'], y=filtered_participants['user_id'],name=\"Filtered\",\n",
    "                    marker=dict(coloraxis=\"coloraxis\")),\n",
    "              1, 2)\n",
    "\n",
    "fig.add_trace(go.Histogram(x=participants['ab_test'], y=participants['user_id'], name=\"Not Filtered\",\n",
    "                    marker=dict(coloraxis=\"coloraxis\")), 2, 1)\n",
    "\n",
    "fig.add_trace(go.Histogram(x=filtered_participants['ab_test'], y=filtered_participants['user_id'],name=\"Filtered\",\n",
    "                    marker=dict(coloraxis=\"coloraxis\")),\n",
    "              2, 2)\n",
    "\n",
    "fig.update_traces(marker=dict(color=(px.colors.sequential.Teal)))\n",
    "fig.update_layout(showlegend=False, title_text=\"Distribution Before and After Filteration\", yaxis=dict(\n",
    "        title='Number of Users'))\n",
    "fig.show()\n"
   ]
  },
  {
   "cell_type": "markdown",
   "id": "c83a2c1a",
   "metadata": {},
   "source": [
    "### Summary"
   ]
  },
  {
   "cell_type": "markdown",
   "id": "d0466850",
   "metadata": {},
   "source": [
    "* In the marketing_events dataset I converted the data types of two columns to datetime.\n",
    "* In the user_events dataset: \n",
    "    * Even though more than 85% of the values in the \"details\" column are null - there is a reasonable explanation for this and there is no need to remove them or fill them. The details is the priced paid for products users purchased and there are no null values for the \"purchase\" event;\n",
    "    * The dates of the test are from December 7th, 2020, till January 1st, 2021 - so there is no need to remove events from the dataset since they all fall within these dates.\n",
    "* In the users dataset there was an incorrect data type for the \"first_date\" column and there are users who signed up after December 21st, 2020.\n",
    "* In the participants dataset there were no duplicates or nulls and no data types to convert. \n",
    "\n",
    "- Sign up date filtration \n",
    "    * Since there were users who signed up after December 21st, 2020, in the datasets - I saved their user ids in a table called \"past_date\" and filtered their ids from the users, user_events and participants datasets;\n",
    "    * I checked that the filtration did not create anomalies in the distribution of values in the datasets - the distribution stayed the same only in fewer numbers;\n",
    "    * Once these users were filtered out, the rows of each data set were as follows: \n",
    "        * users - 53,440;\n",
    "        * user_events - 394,657 (56,170 non null values in the \"details\" column);\n",
    "        * participants - 13,523."
   ]
  },
  {
   "cell_type": "markdown",
   "id": "37cda78d",
   "metadata": {},
   "source": [
    "## Exploratory Data Analysis"
   ]
  },
  {
   "cell_type": "markdown",
   "id": "8f052b70",
   "metadata": {},
   "source": [
    "Now that I concluded the data preprocessing section, in the following section I will perform the exploratory data analysis."
   ]
  },
  {
   "cell_type": "markdown",
   "id": "d5a02378",
   "metadata": {},
   "source": [
    "### Funnel Stages - Conversion "
   ]
  },
  {
   "cell_type": "code",
   "execution_count": null,
   "id": "a0a3c7c0",
   "metadata": {},
   "outputs": [],
   "source": [
    "# creating an event funnel for all users in the \"user_events\" dataset\n",
    "\n",
    "# creating a table with the number of unique user per event and reindexing the events in the table \n",
    "funnel = filtered_user_events.groupby('event_name')['user_id'].nunique().reset_index().reindex(\n",
    "    [0, 2, 1, 3]).reset_index(drop=True)\n",
    "\n",
    "fig = go.Figure(go.Funnel(\n",
    "    y = funnel['event_name'],\n",
    "    x = funnel['user_id'],\n",
    "    textinfo = \"value + percent previous + percent initial\"))\n",
    "fig.update_traces(marker=dict(color=(px.colors.sequential.Teal_r\n",
    "                                    )))\n",
    "fig.update_layout(\n",
    "    title_text=\"Overall Filtered Data Event Funnel\", width=1100, height=570,plot_bgcolor='white', \n",
    "    paper_bgcolor='white')\n",
    "fig.show()\n"
   ]
  },
  {
   "cell_type": "markdown",
   "id": "9d57fa35",
   "metadata": {},
   "source": [
    "Overall, we can see that more than 60% of users who login to the store, visit a product's page and nearly 50% purchase the/a product. However, we can also see that it's possible to purchase a product directly from product page and skip the product cart since the purchase event has more users than the product cart event. "
   ]
  },
  {
   "cell_type": "code",
   "execution_count": null,
   "id": "956e62fb",
   "metadata": {},
   "outputs": [],
   "source": [
    "# checking the number of participants of the \"recommender_system_test\" per event \n",
    "\n",
    "# creating a new dataset by merging the \"participants\" dataset to the \"user_events\" dataset\n",
    "merged_user_events = filtered_user_events.merge(filtered_participants, on='user_id', how='left')\n",
    "\n",
    "# slicing the merged dataset to include on the test and reindexing the events in the table\n",
    "test_funnel = merged_user_events.query('ab_test == \"recommender_system_test\"').groupby(\n",
    "    ['event_name', 'group'])['user_id'].nunique().reset_index().reindex(\n",
    "    [0, 1, 4, 5, 2, 3, 6, 7]).reset_index(drop=True) \n",
    "\n",
    "fig = px.bar(test_funnel, x=\"event_name\", \n",
    "                   y=\"user_id\", color= 'group', title='Distribution of Users Across Regions', \n",
    "                   barmode=\"group\", color_discrete_sequence=(px.colors.sequential.Teal_r))\n",
    "fig.update_layout(bargap=0.2, \n",
    "    xaxis_tickfont_size=14,\n",
    "    yaxis=dict(\n",
    "        title='Number of Users',\n",
    "        titlefont_size=16,\n",
    "        tickfont_size=14), xaxis=dict(\n",
    "        title=\"Event\",\n",
    "        titlefont_size=16,\n",
    "        tickfont_size=14))\n",
    "fig.show()\n"
   ]
  },
  {
   "cell_type": "markdown",
   "id": "3cfacedc",
   "metadata": {},
   "source": [
    "As we can see from the distribution of participants of the \"recommender_system_test\" per group - most users logged in and view the product page and approximately the same amount of users visited the cart/made a purchase. It should also be noted that the groups are grossly uneven. "
   ]
  },
  {
   "cell_type": "code",
   "execution_count": null,
   "id": "937917a1",
   "metadata": {},
   "outputs": [],
   "source": [
    "# creating an event funnel for the participants of the \"recommender_system_test\" per test group\n",
    "\n",
    "fig = go.Figure()\n",
    "\n",
    "fig.add_trace(go.Funnel(\n",
    "    name = 'A',\n",
    "    y = test_funnel.query(\"group == 'A'\")['event_name'],\n",
    "    x = test_funnel.query(\"group == 'A'\")['user_id'],\n",
    "    textinfo = \"value + percent previous + percent initial\"))\n",
    "\n",
    "fig.add_trace(go.Funnel(\n",
    "    name = 'B',\n",
    "    y = test_funnel.query(\"group == 'B'\")['event_name'],\n",
    "    x = test_funnel.query(\"group == 'B'\")['user_id'],\n",
    "    textinfo = \"value + percent previous + percent initial\"))\n",
    "\n",
    "fig.update_traces(marker=dict(color=(px.colors.sequential.Teal)))\n",
    "fig.update_layout(\n",
    "    title_text=\"Filtered Data Event Funnel per Experiment Group\", width=930, height=570, \n",
    "    plot_bgcolor='white', paper_bgcolor='white')\n",
    "\n",
    "fig.show()\n"
   ]
  },
  {
   "cell_type": "markdown",
   "id": "4b5bcbb1",
   "metadata": {},
   "source": [
    "For the events performed by the participants of the \"recommender_system_test\", we can see that group A is significantly smaller than group B and that for both groups the trends of the overall users are the same. "
   ]
  },
  {
   "cell_type": "markdown",
   "id": "a32fdacf",
   "metadata": {},
   "source": [
    "### Distribution of Number of Events per User per Sample"
   ]
  },
  {
   "cell_type": "code",
   "execution_count": null,
   "id": "7cd97ccd",
   "metadata": {},
   "outputs": [],
   "source": [
    "# checking the distribution of events per user \n",
    "\n",
    "events_dis = filtered_user_events.groupby('user_id')['event_name'].count().reset_index().sort_values(by=\n",
    "            'event_name', ascending = False) # creating a table with the number of events per user\n",
    "\n",
    "# checking the distribution by grouping by the number of users and counting how many users had n_events\n",
    "fig = px.histogram(events_dis.groupby('event_name')['user_id'].count().reset_index().rename(columns=\n",
    "                                  {'event_name': 'n_events', 'user_id':'n_users'}), x=\"n_events\", \n",
    "                   y=\"n_users\", title='Distribution of Number of Events per User', \n",
    "                   nbins=50, color_discrete_sequence=(px.colors.sequential.Teal_r))\n",
    "fig.update_layout(bargap=0, \n",
    "    xaxis_tickfont_size=14,\n",
    "    yaxis=dict(\n",
    "        title='Number of Users',\n",
    "        titlefont_size=16,\n",
    "        tickfont_size=14), xaxis=dict(\n",
    "        title=\"Number of Events\",\n",
    "        titlefont_size=16,\n",
    "        tickfont_size=14))\n",
    "fig.show()\n"
   ]
  },
  {
   "cell_type": "markdown",
   "id": "3be6dd3e",
   "metadata": {},
   "source": [
    "Most users in the dataset had either 4, 6, 8 or 12 events between December 7th, 2020, and January 1st, 2021 (actual last date is December 30th, 2020). Very few users had more than 12 events. "
   ]
  },
  {
   "cell_type": "code",
   "execution_count": null,
   "id": "00702f31",
   "metadata": {},
   "outputs": [],
   "source": [
    "# creating a new dataset by merging the \"filtered_participants\" dataset to the \"filtered_user_events\" dataset\n",
    "\n",
    "merged_events = filtered_user_events.merge(filtered_participants, on='user_id', how='left')\n",
    "\n",
    "# creating a table with the number of events per participants of the \"recommender_system_test\" per test group \n",
    "\n",
    "rst = merged_events.groupby(['user_id', 'ab_test', 'group'])[\n",
    "    'event_name'].count().reset_index().query(\"ab_test == 'recommender_system_test'\") \n",
    "\n",
    "# checking the distribution by grouping by the number of participants and counting how many users had n_events\n",
    "\n",
    "rst_e = rst.groupby(['event_name', 'group'])['user_id'].count().reset_index().rename(columns=\n",
    "                                  {'event_name': 'n_events', 'user_id':'n_users'})\n",
    "fig = px.histogram(rst_e, x=\"n_events\", \n",
    "                   y=\"n_users\", color= 'group', title='Distribution of Number of Events per User - recommender_system_test', \n",
    "                   nbins=50, color_discrete_sequence=(px.colors.sequential.Teal_r))\n",
    "fig.update_layout(bargap=0, \n",
    "    xaxis_tickfont_size=14,\n",
    "    yaxis=dict(\n",
    "        title='Number of Users',\n",
    "        titlefont_size=16,\n",
    "        tickfont_size=14), xaxis=dict(\n",
    "        title=\"Number of Events\",\n",
    "        titlefont_size=16,\n",
    "        tickfont_size=14))\n",
    "fig.show()\n"
   ]
  },
  {
   "cell_type": "markdown",
   "id": "006b1fe7",
   "metadata": {},
   "source": [
    "The participants of the \"recommender_system_test\" follow the same trends of all the users, with more than 800 members having 6 events. Overall, most users had no more than 12 events. "
   ]
  },
  {
   "cell_type": "markdown",
   "id": "c103b927",
   "metadata": {},
   "source": [
    "### Distribution of Number of Events per Day in Test Period"
   ]
  },
  {
   "cell_type": "code",
   "execution_count": null,
   "id": "80b294fd",
   "metadata": {},
   "outputs": [],
   "source": [
    "# checking the distribution of events per date per test \n",
    "\n",
    "merged_user_events = filtered_user_events.merge(filtered_participants, on='user_id', how='left').fillna('none')\n",
    "merged_user_events['date'] = merged_user_events['event_dt'].astype('datetime64[D]')\n",
    "\n",
    "fig = px.histogram(merged_user_events, x=\"date\", color='ab_test', title='Histogram of Events by Date', \n",
    "                   nbins=30, color_discrete_sequence=(px.colors.sequential.Teal_r))\n",
    "fig.update_layout(bargap=0.2, \n",
    "    xaxis_tickfont_size=12,\n",
    "    yaxis=dict(\n",
    "        title='Number of Events',\n",
    "        titlefont_size=14,\n",
    "        tickfont_size=12), xaxis=dict(\n",
    "        title=\"Event Date\",\n",
    "        titlefont_size=14,\n",
    "        tickfont_size=12))\n",
    "fig.show()\n"
   ]
  },
  {
   "cell_type": "markdown",
   "id": "e2ef6061",
   "metadata": {},
   "source": [
    "December 21st, 2020, had the most events between December 7th and December 30th. There was a steady climb in events per day up to December 14th and then decline, a peak on the 21st and then a decline again till Christmas Eve (with no events on Christmas) to New Year's Eve and the New Year. "
   ]
  },
  {
   "cell_type": "code",
   "execution_count": null,
   "id": "06a0bd5b",
   "metadata": {
    "scrolled": false
   },
   "outputs": [],
   "source": [
    "# checking the distribution of events per date per experiment group in the \"recommender_system_test\"\n",
    "\n",
    "fig = px.histogram(merged_user_events.query(\"ab_test == 'recommender_system_test'\"), x=\"date\", color='group', \n",
    "                   title='Histogram of Events by Date - recommender_system_test', \n",
    "                   nbins=30, color_discrete_sequence=(px.colors.sequential.Teal_r))\n",
    "fig.update_layout(bargap=0.2, \n",
    "    xaxis_tickfont_size=14,\n",
    "    yaxis=dict(\n",
    "        title='Number of Events',\n",
    "        titlefont_size=14,\n",
    "        tickfont_size=12), xaxis=dict(\n",
    "        title=\"Event Date\",\n",
    "        titlefont_size=14,\n",
    "        tickfont_size=12))\n",
    "fig.show()"
   ]
  },
  {
   "cell_type": "markdown",
   "id": "a444fc5a",
   "metadata": {},
   "source": [
    "The distribution of events per day among the participants of the \"recommender_system_test\" is similar to the overall distribution, with one exception - no mini peak of December 24th. "
   ]
  },
  {
   "cell_type": "markdown",
   "id": "8b4050d5",
   "metadata": {},
   "source": [
    "### Overlapping Users in Test Groups"
   ]
  },
  {
   "cell_type": "markdown",
   "id": "0397a761",
   "metadata": {},
   "source": [
    "#### Locating Overlapping Users"
   ]
  },
  {
   "cell_type": "markdown",
   "id": "3db98505",
   "metadata": {},
   "source": [
    "##### Two Test Groups"
   ]
  },
  {
   "cell_type": "code",
   "execution_count": 37,
   "id": "fc0544d8",
   "metadata": {},
   "outputs": [
    {
     "data": {
      "text/html": [
       "<div>\n",
       "<style scoped>\n",
       "    .dataframe tbody tr th:only-of-type {\n",
       "        vertical-align: middle;\n",
       "    }\n",
       "\n",
       "    .dataframe tbody tr th {\n",
       "        vertical-align: top;\n",
       "    }\n",
       "\n",
       "    .dataframe thead th {\n",
       "        text-align: right;\n",
       "    }\n",
       "</style>\n",
       "<table border=\"1\" class=\"dataframe\">\n",
       "  <thead>\n",
       "    <tr style=\"text-align: right;\">\n",
       "      <th></th>\n",
       "      <th>user_id</th>\n",
       "      <th>group</th>\n",
       "    </tr>\n",
       "  </thead>\n",
       "  <tbody>\n",
       "    <tr>\n",
       "      <th>0</th>\n",
       "      <td>BEF16764A13AEC34</td>\n",
       "      <td>2</td>\n",
       "    </tr>\n",
       "    <tr>\n",
       "      <th>1</th>\n",
       "      <td>C89E24F4C723CEF4</td>\n",
       "      <td>2</td>\n",
       "    </tr>\n",
       "    <tr>\n",
       "      <th>2</th>\n",
       "      <td>B582D211C1BE1FFD</td>\n",
       "      <td>2</td>\n",
       "    </tr>\n",
       "    <tr>\n",
       "      <th>3</th>\n",
       "      <td>F507CB8030C885FB</td>\n",
       "      <td>2</td>\n",
       "    </tr>\n",
       "    <tr>\n",
       "      <th>4</th>\n",
       "      <td>3A6D88AB973BD99D</td>\n",
       "      <td>2</td>\n",
       "    </tr>\n",
       "    <tr>\n",
       "      <th>...</th>\n",
       "      <td>...</td>\n",
       "      <td>...</td>\n",
       "    </tr>\n",
       "    <tr>\n",
       "      <th>436</th>\n",
       "      <td>C474F67E2204321C</td>\n",
       "      <td>2</td>\n",
       "    </tr>\n",
       "    <tr>\n",
       "      <th>437</th>\n",
       "      <td>83E9CFC64D61108E</td>\n",
       "      <td>2</td>\n",
       "    </tr>\n",
       "    <tr>\n",
       "      <th>438</th>\n",
       "      <td>BF6D4EF4B54B3E94</td>\n",
       "      <td>2</td>\n",
       "    </tr>\n",
       "    <tr>\n",
       "      <th>439</th>\n",
       "      <td>7C9CA3F88B8755F1</td>\n",
       "      <td>2</td>\n",
       "    </tr>\n",
       "    <tr>\n",
       "      <th>440</th>\n",
       "      <td>21E6AD81A122B126</td>\n",
       "      <td>2</td>\n",
       "    </tr>\n",
       "  </tbody>\n",
       "</table>\n",
       "<p>441 rows × 2 columns</p>\n",
       "</div>"
      ],
      "text/plain": [
       "              user_id  group\n",
       "0    BEF16764A13AEC34      2\n",
       "1    C89E24F4C723CEF4      2\n",
       "2    B582D211C1BE1FFD      2\n",
       "3    F507CB8030C885FB      2\n",
       "4    3A6D88AB973BD99D      2\n",
       "..                ...    ...\n",
       "436  C474F67E2204321C      2\n",
       "437  83E9CFC64D61108E      2\n",
       "438  BF6D4EF4B54B3E94      2\n",
       "439  7C9CA3F88B8755F1      2\n",
       "440  21E6AD81A122B126      2\n",
       "\n",
       "[441 rows x 2 columns]"
      ]
     },
     "execution_count": 37,
     "metadata": {},
     "output_type": "execute_result"
    }
   ],
   "source": [
    "# locating participants who are members of both A and B group \n",
    "\n",
    "two_grouped = filtered_participants.groupby(['user_id']).agg({'group': 'nunique'}).sort_values(by='group', \n",
    "                                                ascending=False).query('group > 1').reset_index()\n",
    "two_grouped\n"
   ]
  },
  {
   "cell_type": "markdown",
   "id": "133a0792",
   "metadata": {},
   "source": [
    "As we can see above, there are participants who are members of both groups - but not necessarily in the same test. "
   ]
  },
  {
   "cell_type": "markdown",
   "id": "25001d8f",
   "metadata": {},
   "source": [
    "##### Two Test Groups in One ab_test"
   ]
  },
  {
   "cell_type": "code",
   "execution_count": 38,
   "id": "b48a9a33",
   "metadata": {},
   "outputs": [
    {
     "data": {
      "text/html": [
       "<div>\n",
       "<style scoped>\n",
       "    .dataframe tbody tr th:only-of-type {\n",
       "        vertical-align: middle;\n",
       "    }\n",
       "\n",
       "    .dataframe tbody tr th {\n",
       "        vertical-align: top;\n",
       "    }\n",
       "\n",
       "    .dataframe thead th {\n",
       "        text-align: right;\n",
       "    }\n",
       "</style>\n",
       "<table border=\"1\" class=\"dataframe\">\n",
       "  <thead>\n",
       "    <tr style=\"text-align: right;\">\n",
       "      <th></th>\n",
       "      <th>user_id</th>\n",
       "      <th>group</th>\n",
       "      <th>ab_test</th>\n",
       "    </tr>\n",
       "  </thead>\n",
       "  <tbody>\n",
       "  </tbody>\n",
       "</table>\n",
       "</div>"
      ],
      "text/plain": [
       "Empty DataFrame\n",
       "Columns: [user_id, group, ab_test]\n",
       "Index: []"
      ]
     },
     "execution_count": 38,
     "metadata": {},
     "output_type": "execute_result"
    }
   ],
   "source": [
    "# checking if there are participants who are members of more than group in one test\n",
    "\n",
    "two_grouped_test = filtered_participants.groupby(['user_id']).agg({'group': 'nunique', 'ab_test': 'nunique'}).sort_values(by='group', \n",
    "                                                ascending=False).query('group > 1 & ab_test == 1').reset_index()\n",
    "two_grouped_test\n"
   ]
  },
  {
   "cell_type": "markdown",
   "id": "fd81d39f",
   "metadata": {},
   "source": [
    "As we can, there are no participants who are members of both groups in either of the tests in the dataset. "
   ]
  },
  {
   "cell_type": "markdown",
   "id": "ce104c8f",
   "metadata": {},
   "source": [
    "##### Two ab_tests"
   ]
  },
  {
   "cell_type": "code",
   "execution_count": 39,
   "id": "5421425c",
   "metadata": {
    "scrolled": true
   },
   "outputs": [
    {
     "data": {
      "text/html": [
       "<div>\n",
       "<style scoped>\n",
       "    .dataframe tbody tr th:only-of-type {\n",
       "        vertical-align: middle;\n",
       "    }\n",
       "\n",
       "    .dataframe tbody tr th {\n",
       "        vertical-align: top;\n",
       "    }\n",
       "\n",
       "    .dataframe thead th {\n",
       "        text-align: right;\n",
       "    }\n",
       "</style>\n",
       "<table border=\"1\" class=\"dataframe\">\n",
       "  <thead>\n",
       "    <tr style=\"text-align: right;\">\n",
       "      <th></th>\n",
       "      <th>user_id</th>\n",
       "      <th>ab_test</th>\n",
       "    </tr>\n",
       "  </thead>\n",
       "  <tbody>\n",
       "    <tr>\n",
       "      <th>0</th>\n",
       "      <td>83AB3C13B3972BAE</td>\n",
       "      <td>2</td>\n",
       "    </tr>\n",
       "    <tr>\n",
       "      <th>1</th>\n",
       "      <td>E0EEE04D9FDB4931</td>\n",
       "      <td>2</td>\n",
       "    </tr>\n",
       "    <tr>\n",
       "      <th>2</th>\n",
       "      <td>6786C23A54D59DD4</td>\n",
       "      <td>2</td>\n",
       "    </tr>\n",
       "    <tr>\n",
       "      <th>3</th>\n",
       "      <td>21C2D41E1FDF1E70</td>\n",
       "      <td>2</td>\n",
       "    </tr>\n",
       "    <tr>\n",
       "      <th>4</th>\n",
       "      <td>21AEB217BA764EAB</td>\n",
       "      <td>2</td>\n",
       "    </tr>\n",
       "  </tbody>\n",
       "</table>\n",
       "</div>"
      ],
      "text/plain": [
       "            user_id  ab_test\n",
       "0  83AB3C13B3972BAE        2\n",
       "1  E0EEE04D9FDB4931        2\n",
       "2  6786C23A54D59DD4        2\n",
       "3  21C2D41E1FDF1E70        2\n",
       "4  21AEB217BA764EAB        2"
      ]
     },
     "execution_count": 39,
     "metadata": {},
     "output_type": "execute_result"
    }
   ],
   "source": [
    "# checking if there are participants who are members of more than one test\n",
    "\n",
    "two_tested = participants.groupby(['user_id']).agg({'ab_test': 'nunique'}).sort_values(by='ab_test', \n",
    "                                                ascending=False).query('ab_test > 1').reset_index()\n",
    "two_tested.head()"
   ]
  },
  {
   "cell_type": "code",
   "execution_count": 40,
   "id": "70774744",
   "metadata": {},
   "outputs": [
    {
     "name": "stdout",
     "output_type": "stream",
     "text": [
      "There 887 participants who are members of both the \"recommender_system_test\" and the \"interface_eu_test\". Once \n",
      "removed, there will be 2788 \"recommender_system_test\" participants remaining.\n"
     ]
    }
   ],
   "source": [
    "print(\"\"\"There {} participants who are members of both the \"recommender_system_test\" and the \"interface_eu_test\". Once \n",
    "removed, there will be {} \"recommender_system_test\" participants remaining.\"\"\".format(two_tested['user_id'].nunique(), \n",
    "                                        filtered_participants.query(\"ab_test == 'recommender_system_test'\")\n",
    "                                        ['user_id'].nunique() - two_tested['user_id'].nunique())) \n"
   ]
  },
  {
   "cell_type": "markdown",
   "id": "6d413cdc",
   "metadata": {},
   "source": [
    "#### Filtering the Participants, Users ad User Event Datasets"
   ]
  },
  {
   "cell_type": "markdown",
   "id": "3049774e",
   "metadata": {},
   "source": [
    "##### Filtering Two Tested Participants"
   ]
  },
  {
   "cell_type": "code",
   "execution_count": 41,
   "id": "9114178d",
   "metadata": {},
   "outputs": [],
   "source": [
    "# filtering from the \"filtered_participants\" dataset the participants who are members of both tests\n",
    "\n",
    "filtered_participants = filtered_participants[~filtered_participants.user_id.isin(two_tested['user_id'])]\n"
   ]
  },
  {
   "cell_type": "code",
   "execution_count": 42,
   "id": "e6663685",
   "metadata": {},
   "outputs": [
    {
     "data": {
      "text/html": [
       "<div>\n",
       "<style scoped>\n",
       "    .dataframe tbody tr th:only-of-type {\n",
       "        vertical-align: middle;\n",
       "    }\n",
       "\n",
       "    .dataframe tbody tr th {\n",
       "        vertical-align: top;\n",
       "    }\n",
       "\n",
       "    .dataframe thead th {\n",
       "        text-align: right;\n",
       "    }\n",
       "</style>\n",
       "<table border=\"1\" class=\"dataframe\">\n",
       "  <thead>\n",
       "    <tr style=\"text-align: right;\">\n",
       "      <th></th>\n",
       "      <th>user_id</th>\n",
       "      <th>ab_test</th>\n",
       "    </tr>\n",
       "  </thead>\n",
       "  <tbody>\n",
       "  </tbody>\n",
       "</table>\n",
       "</div>"
      ],
      "text/plain": [
       "Empty DataFrame\n",
       "Columns: [user_id, ab_test]\n",
       "Index: []"
      ]
     },
     "execution_count": 42,
     "metadata": {},
     "output_type": "execute_result"
    }
   ],
   "source": [
    "# rechecking whether there are still participants who are members of both tests\n",
    "\n",
    "filtered_participants.groupby(['user_id']).agg({'ab_test': 'nunique'}).sort_values(by='ab_test', \n",
    "                                                ascending=False).query('ab_test > 1').reset_index()\n"
   ]
  },
  {
   "cell_type": "code",
   "execution_count": 43,
   "id": "5d4e5d07",
   "metadata": {},
   "outputs": [],
   "source": [
    "# filtering from the \"filtered_users\" dataset the participants who are members of both tests\n",
    "\n",
    "filtered_users = filtered_users[~filtered_users.user_id.isin(two_tested['user_id'])]\n"
   ]
  },
  {
   "cell_type": "code",
   "execution_count": 44,
   "id": "d9937e3a",
   "metadata": {},
   "outputs": [],
   "source": [
    "# filtering from the \"filtered_user_events\" dataset the participants who are members of both tests\n",
    "\n",
    "filtered_user_events = filtered_user_events[~filtered_user_events.user_id.isin(two_tested['user_id'])]\n"
   ]
  },
  {
   "cell_type": "markdown",
   "id": "c18b8db7",
   "metadata": {},
   "source": [
    "##### Filtering None \"recommender_system_test\" Participants"
   ]
  },
  {
   "cell_type": "code",
   "execution_count": 45,
   "id": "ba49693d",
   "metadata": {},
   "outputs": [],
   "source": [
    "# creating a dataset with only \"recommender_system_test\" participants, since the \"participants\" dataset contains members of two test \n",
    "\n",
    "rst_participants = filtered_participants.query(\"ab_test == 'recommender_system_test'\")\n"
   ]
  },
  {
   "cell_type": "code",
   "execution_count": 46,
   "id": "bd60d8dd",
   "metadata": {},
   "outputs": [],
   "source": [
    "# creating a filtered \"users\" dataset with only the \"recommender_system_test\" participants\n",
    "\n",
    "rst_users = filtered_users[filtered_users.user_id.isin(rst_participants['user_id'])]\n"
   ]
  },
  {
   "cell_type": "code",
   "execution_count": 47,
   "id": "4f80e065",
   "metadata": {},
   "outputs": [],
   "source": [
    "# creating a filtered \"user_events\" dataset with only the \"recommender_system_test\" participants\n",
    "\n",
    "rst_events = filtered_user_events[filtered_user_events.user_id.isin(rst_participants['user_id'])]\n"
   ]
  },
  {
   "cell_type": "markdown",
   "id": "5ecfe4e4",
   "metadata": {},
   "source": [
    "#### Evaluating the Amount of Data Removed while Filtering"
   ]
  },
  {
   "cell_type": "code",
   "execution_count": null,
   "id": "a99184a5",
   "metadata": {
    "scrolled": false
   },
   "outputs": [],
   "source": [
    "# checking how was much of the data was filtered out by keeping only participants of \"recommender_system_test\"\n",
    "\n",
    "labels = [\"recommender_system_test\", \"others\"] # setting labels for slices \n",
    "\n",
    "fig = make_subplots(rows=1, cols=2, specs=[[{'type':'domain'}, {'type':'domain'}]]) # creating subplots\n",
    "\n",
    "# creating donut no.1 of number of unique users remaining and filtered out\n",
    "fig.add_trace(go.Pie(labels=labels, values=[rst_events['user_id'].nunique(), user_events\n",
    "                            ['user_id'].nunique()-rst_events['user_id'].nunique()], name=\"Users\"),1, 1)\n",
    "\n",
    "# creating donut no.2 of number of events remaining and filtered out\n",
    "fig.add_trace(go.Pie(labels=labels, values=[rst_events['event_name'].count(), user_events\n",
    "                            ['event_name'].count()-rst_events['event_name'].count()], name=\"Events\"),1, 2)\n",
    "\n",
    "fig.update_traces(pull=[0, 0.2], hole=.3, hoverinfo=\"label+value+percent+name\", marker=dict\n",
    "                  (colors=(px.colors.sequential.Teal))) # pulling out a slice, setting hole, color and hover info\n",
    "\n",
    "# setting the chart's title and the text in the donut holes \n",
    "fig.update_layout(\n",
    "    title_text=\"Percentage of Data Removed While Filtering\",\n",
    "    annotations=[dict(text='Users', x=0.185, y=0.425, font_size=20, showarrow=False),\n",
    "                 dict(text='Events', x=0.827, y=0.426, font_size=20, showarrow=False)])\n",
    "\n",
    "fig.show()\n"
   ]
  },
  {
   "cell_type": "markdown",
   "id": "101322bf",
   "metadata": {},
   "source": [
    "I have created new tables of each dataset with only the data pertaining to the participants of the \"recommender_system_test\" who participated in this test alone. The data filtered out is more than 95% of users and events. "
   ]
  },
  {
   "cell_type": "markdown",
   "id": "6b4940bb",
   "metadata": {},
   "source": [
    "### Additional Details"
   ]
  },
  {
   "cell_type": "markdown",
   "id": "14166460",
   "metadata": {},
   "source": [
    "Now that I created clean datasets with only the \"recommender_system_test\" participants, I will merge these datasets to one easy to work with data set and examine distribution of participants' region and device used signing up. "
   ]
  },
  {
   "cell_type": "code",
   "execution_count": 48,
   "id": "1c38fe59",
   "metadata": {},
   "outputs": [
    {
     "data": {
      "text/html": [
       "<div>\n",
       "<style scoped>\n",
       "    .dataframe tbody tr th:only-of-type {\n",
       "        vertical-align: middle;\n",
       "    }\n",
       "\n",
       "    .dataframe tbody tr th {\n",
       "        vertical-align: top;\n",
       "    }\n",
       "\n",
       "    .dataframe thead th {\n",
       "        text-align: right;\n",
       "    }\n",
       "</style>\n",
       "<table border=\"1\" class=\"dataframe\">\n",
       "  <thead>\n",
       "    <tr style=\"text-align: right;\">\n",
       "      <th></th>\n",
       "      <th>user_id</th>\n",
       "      <th>event_dt</th>\n",
       "      <th>event_name</th>\n",
       "      <th>details</th>\n",
       "      <th>group</th>\n",
       "      <th>ab_test</th>\n",
       "      <th>first_date</th>\n",
       "      <th>region</th>\n",
       "      <th>device</th>\n",
       "    </tr>\n",
       "  </thead>\n",
       "  <tbody>\n",
       "    <tr>\n",
       "      <th>0</th>\n",
       "      <td>831887FE7F2D6CBA</td>\n",
       "      <td>2020-12-07 06:50:29</td>\n",
       "      <td>purchase</td>\n",
       "      <td>4.99</td>\n",
       "      <td>A</td>\n",
       "      <td>recommender_system_test</td>\n",
       "      <td>2020-12-07</td>\n",
       "      <td>EU</td>\n",
       "      <td>Android</td>\n",
       "    </tr>\n",
       "    <tr>\n",
       "      <th>1</th>\n",
       "      <td>3C5DD0288AC4FE23</td>\n",
       "      <td>2020-12-07 19:42:40</td>\n",
       "      <td>purchase</td>\n",
       "      <td>4.99</td>\n",
       "      <td>A</td>\n",
       "      <td>recommender_system_test</td>\n",
       "      <td>2020-12-07</td>\n",
       "      <td>EU</td>\n",
       "      <td>PC</td>\n",
       "    </tr>\n",
       "    <tr>\n",
       "      <th>2</th>\n",
       "      <td>49EA242586C87836</td>\n",
       "      <td>2020-12-07 06:31:24</td>\n",
       "      <td>purchase</td>\n",
       "      <td>99.99</td>\n",
       "      <td>B</td>\n",
       "      <td>recommender_system_test</td>\n",
       "      <td>2020-12-07</td>\n",
       "      <td>EU</td>\n",
       "      <td>iPhone</td>\n",
       "    </tr>\n",
       "    <tr>\n",
       "      <th>3</th>\n",
       "      <td>A640F31CAC7823A6</td>\n",
       "      <td>2020-12-07 18:48:26</td>\n",
       "      <td>purchase</td>\n",
       "      <td>4.99</td>\n",
       "      <td>B</td>\n",
       "      <td>recommender_system_test</td>\n",
       "      <td>2020-12-07</td>\n",
       "      <td>EU</td>\n",
       "      <td>PC</td>\n",
       "    </tr>\n",
       "    <tr>\n",
       "      <th>4</th>\n",
       "      <td>A9908F62C41613A8</td>\n",
       "      <td>2020-12-07 11:26:47</td>\n",
       "      <td>purchase</td>\n",
       "      <td>9.99</td>\n",
       "      <td>B</td>\n",
       "      <td>recommender_system_test</td>\n",
       "      <td>2020-12-07</td>\n",
       "      <td>EU</td>\n",
       "      <td>PC</td>\n",
       "    </tr>\n",
       "  </tbody>\n",
       "</table>\n",
       "</div>"
      ],
      "text/plain": [
       "            user_id            event_dt event_name  details group  \\\n",
       "0  831887FE7F2D6CBA 2020-12-07 06:50:29   purchase     4.99     A   \n",
       "1  3C5DD0288AC4FE23 2020-12-07 19:42:40   purchase     4.99     A   \n",
       "2  49EA242586C87836 2020-12-07 06:31:24   purchase    99.99     B   \n",
       "3  A640F31CAC7823A6 2020-12-07 18:48:26   purchase     4.99     B   \n",
       "4  A9908F62C41613A8 2020-12-07 11:26:47   purchase     9.99     B   \n",
       "\n",
       "                   ab_test first_date region   device  \n",
       "0  recommender_system_test 2020-12-07     EU  Android  \n",
       "1  recommender_system_test 2020-12-07     EU       PC  \n",
       "2  recommender_system_test 2020-12-07     EU   iPhone  \n",
       "3  recommender_system_test 2020-12-07     EU       PC  \n",
       "4  recommender_system_test 2020-12-07     EU       PC  "
      ]
     },
     "execution_count": 48,
     "metadata": {},
     "output_type": "execute_result"
    }
   ],
   "source": [
    "# creating a merged dataset containing all the info pertaining only to the participants of the \"recommender_system_test\"\n",
    "\n",
    "rst_merge = rst_events.merge(rst_participants, on='user_id', how='left')\n",
    "rst_merge = rst_merge.merge(rst_users, on='user_id', how='left')\n",
    "rst_merge.head()\n"
   ]
  },
  {
   "cell_type": "markdown",
   "id": "98ccab3c",
   "metadata": {},
   "source": [
    "#### Regional Distribution"
   ]
  },
  {
   "cell_type": "code",
   "execution_count": null,
   "id": "0db03f93",
   "metadata": {
    "scrolled": false
   },
   "outputs": [],
   "source": [
    "# checking the distribution of region among the participants of the \"recommender_system_test\" per group\n",
    "\n",
    "fig = px.histogram(rst_merge.groupby(['region', 'group'])['user_id'].nunique().reset_index()\n",
    "                   .sort_values(by='user_id', ascending=False), x=\"region\", \n",
    "                   y=\"user_id\", color= 'group', title='Distribution of Users Across Regions', \n",
    "                   nbins=50, color_discrete_sequence=(px.colors.sequential.Teal_r))\n",
    "fig.update_layout(bargap=0.2, \n",
    "    xaxis_tickfont_size=14,\n",
    "    yaxis=dict(\n",
    "        title='Number of Users',\n",
    "        titlefont_size=16,\n",
    "        tickfont_size=14), xaxis=dict(\n",
    "        title=\"Region\",\n",
    "        titlefont_size=16,\n",
    "        tickfont_size=14))\n",
    "fig.show()\n"
   ]
  },
  {
   "cell_type": "markdown",
   "id": "aab274b7",
   "metadata": {},
   "source": [
    "Even though the intended audience was supposed to be from EU only, there are some participants from other regions among the participants. "
   ]
  },
  {
   "cell_type": "markdown",
   "id": "1a12f4c2",
   "metadata": {},
   "source": [
    "#### Distribution of Device Used When Signing Up"
   ]
  },
  {
   "cell_type": "code",
   "execution_count": null,
   "id": "80681325",
   "metadata": {},
   "outputs": [],
   "source": [
    "# checking the distribution of the device the participants of the \"recommender_system_test\" signed up with in the test period\n",
    "\n",
    "fig = px.histogram(rst_merge.groupby(['device', 'group', 'first_date'])['user_id'].count().\n",
    "                   reset_index(), x=\"first_date\", \n",
    "                   y=\"user_id\", color= 'device', title='Distribution of Devices Used When Signing Up', \n",
    "                   nbins=50, color_discrete_sequence=(px.colors.sequential.Teal))\n",
    "fig.update_layout(bargap=0.2, \n",
    "    xaxis_tickfont_size=14,\n",
    "    yaxis=dict(\n",
    "        title='Number of Users',\n",
    "        titlefont_size=16,\n",
    "        tickfont_size=14), xaxis=dict(\n",
    "        title=\"Date of Signing Up\",\n",
    "        titlefont_size=16,\n",
    "        tickfont_size=14))\n",
    "fig.show()\n"
   ]
  },
  {
   "cell_type": "markdown",
   "id": "4f41fb68",
   "metadata": {},
   "source": [
    "Most participants signed up on December 7th, the 14th and the 21st. We can also see better sign up numbers leading to the 21st. Participants used mostly Android and PC to sign up. "
   ]
  },
  {
   "cell_type": "code",
   "execution_count": null,
   "id": "3955a519",
   "metadata": {},
   "outputs": [],
   "source": [
    "# checking the distribution of the device the participants of the \"recommender_system_test\" signed up with per group\n",
    "\n",
    "fig = px.histogram(rst_merge.groupby(['device', 'group', 'first_date'])['user_id'].nunique().\n",
    "                   reset_index().sort_values(by='user_id', ascending=False), x=\"device\", \n",
    "                   y=\"user_id\", color= 'group', title='Distribution of Users Across Devices', \n",
    "                   nbins=50, color_discrete_sequence=(px.colors.sequential.Teal_r))\n",
    "fig.update_layout(bargap=0.2, \n",
    "    xaxis_tickfont_size=14,\n",
    "    yaxis=dict(\n",
    "        title='Number of Users',\n",
    "        titlefont_size=16,\n",
    "        tickfont_size=14), xaxis=dict(\n",
    "        title=\"Device Used While Signing Up\",\n",
    "        titlefont_size=16,\n",
    "        tickfont_size=14))\n",
    "fig.show()\n"
   ]
  },
  {
   "cell_type": "markdown",
   "id": "c95a152f",
   "metadata": {},
   "source": [
    "Android is by far the device used the most to sign up - more than 1,200 participants (out of 2,788 participants). Next is PC and iPhone while Mac is last. It is possible that most participants sign up \"on the go\" maybe they saw an advertisement, or that the interface is more user friendly. "
   ]
  },
  {
   "cell_type": "markdown",
   "id": "f38570ab",
   "metadata": {},
   "source": [
    "### Summary"
   ]
  },
  {
   "cell_type": "markdown",
   "id": "2294b4a8",
   "metadata": {},
   "source": [
    "- Conversion\n",
    "    * Overall, more than 60% of users who login to the store, visit a product's page and nearly 50% purchase the/a product. However, we can also see that it's possible to purchase a product directly from product page and skip the product cart since the purchase event has more users than the product cart event;\n",
    "    * Most users logged in and view the product page and approximately the same amount of users visited the cart/made a purchase. It should also be noted that the groups are grossly uneven;\n",
    "    * For the events performed by the participants of the \"recommender_system_test\", we can see that group A is significantly smaller than group B and that for both groups the trends of the overall users are the same. \n",
    "    \n",
    "    \n",
    "- Events per User\n",
    "    * Most users in the dataset had either 4, 6, 8 or 12 events between December 7th, 2020, and January 1st, 2021 (actual last date is December 30th, 2020). Very few users had more than 12 events;\n",
    "    * The participants of the \"recommender_system_test\" follow the same trends of all the users, with more than 800 members having 6 events. Overall, most users had no more than 12 events. \n",
    "    \n",
    "    \n",
    "- Events per Day\n",
    "    * The participants of the \"recommender_system_test\" follow the same trends of all the users, with more than 800 members having 6 events. Overall, most users had no more than 12 events; \n",
    "    * The distribution of events per day among the participants of the \"recommender_system_test\" is similar to the overall distribution, with one exception - no mini peak of December 24th. \n",
    "    \n",
    "- Overlapping test participants and filtering non-recommender_system_test participants\n",
    "    * There were no participants who are members of both groups in either of the tests in the dataset;\n",
    "    * There 887 participants who are members of both the \"recommender_system_test\" and the \"interface_eu_test\";\n",
    "    * created new tables of each dataset with only the data pertaining to the participants of the \"recommender_system_test\" who participated in this test alone. The data filtered out is more than 95% of users and events. \n",
    "\n",
    "- Additional Details\n",
    "    * I merged all the data pertaining to the participants of the \"recommender_system_test\" into one dataset;\n",
    "    * Most of the participants are from the EU but there are some participants from other regions among the participants;\n",
    "    * Most participants signed up on December 7th, the 14th and the 21st. There were better sign up numbers leading to the 21st. Participants used mostly Android and PC to sign up;\n",
    "    * Android is by far the device used the most to sign up - more than 1,200 participants (out of 2,788 participants). Next is PC and iPhone while Mac is last. It is possible that most participants sign up \"on the go\" maybe they saw an advertisement, or that the interface is more user friendly."
   ]
  },
  {
   "cell_type": "markdown",
   "id": "4a591937",
   "metadata": {},
   "source": [
    "## A/B Test Analysis"
   ]
  },
  {
   "cell_type": "markdown",
   "id": "6c3a5f4e",
   "metadata": {},
   "source": [
    "In this section I will examine the results of the \"recommender_system_test\" and perform a z-test to determine whether there is a statistical significance difference between the proportions of the groups at each event. "
   ]
  },
  {
   "cell_type": "markdown",
   "id": "7375e65f",
   "metadata": {},
   "source": [
    "### The A/B Test Results"
   ]
  },
  {
   "cell_type": "markdown",
   "id": "942a0a6b",
   "metadata": {},
   "source": [
    "#### Number of Participants and the Distribution of Participants per Test Group"
   ]
  },
  {
   "cell_type": "code",
   "execution_count": null,
   "id": "42d7f760",
   "metadata": {},
   "outputs": [],
   "source": [
    "# checking the number of users in each group of the \"recommender_system_test\"\n",
    "\n",
    "fig = px.histogram(rst_merge.groupby('group')['user_id'].nunique().reset_index(), x=\"group\", \n",
    "                   y=\"user_id\", title='Distribution of Participants per Test Group', \n",
    "                   nbins=50, color_discrete_sequence=(px.colors.sequential.Darkmint_r, 4))\n",
    "fig.update_layout(bargap=0.1, \n",
    "    xaxis_tickfont_size=14,\n",
    "    yaxis=dict(\n",
    "        title='Number of Participants',\n",
    "        titlefont_size=16,\n",
    "        tickfont_size=14), xaxis=dict(\n",
    "        title=\"Test Groups\",\n",
    "        titlefont_size=16,\n",
    "        tickfont_size=14))\n",
    "fig.show()\n",
    "\n",
    "print(\"\"\"The number of participants of test group A is almost {:.0f} times higher than that of test group B.\n",
    "\n",
    "The expected number of participants was 6,000. However, the number of users who actually participated was {}. \n",
    "Only {:.2f}% of the expected number of participants.\"\"\"\n",
    "      .format(rst_merge.query(\"group == 'A'\")\n",
    "              ['user_id'].nunique()/rst_merge.query(\"group == 'B'\")\n",
    "              ['user_id'].nunique(), rst_merge.user_id.nunique(), rst_merge.user_id.nunique()/6000*100))\n"
   ]
  },
  {
   "cell_type": "markdown",
   "id": "93f33581",
   "metadata": {},
   "source": [
    "#### Number of Participants and Participants Registered After December 21st, 2020"
   ]
  },
  {
   "cell_type": "code",
   "execution_count": 49,
   "id": "81a23f48",
   "metadata": {},
   "outputs": [
    {
     "data": {
      "text/html": [
       "<div>\n",
       "<style scoped>\n",
       "    .dataframe tbody tr th:only-of-type {\n",
       "        vertical-align: middle;\n",
       "    }\n",
       "\n",
       "    .dataframe tbody tr th {\n",
       "        vertical-align: top;\n",
       "    }\n",
       "\n",
       "    .dataframe thead th {\n",
       "        text-align: right;\n",
       "    }\n",
       "</style>\n",
       "<table border=\"1\" class=\"dataframe\">\n",
       "  <thead>\n",
       "    <tr style=\"text-align: right;\">\n",
       "      <th></th>\n",
       "      <th>user_id</th>\n",
       "      <th>group</th>\n",
       "      <th>ab_test</th>\n",
       "    </tr>\n",
       "  </thead>\n",
       "  <tbody>\n",
       "  </tbody>\n",
       "</table>\n",
       "</div>"
      ],
      "text/plain": [
       "Empty DataFrame\n",
       "Columns: [user_id, group, ab_test]\n",
       "Index: []"
      ]
     },
     "metadata": {},
     "output_type": "display_data"
    },
    {
     "name": "stdout",
     "output_type": "stream",
     "text": [
      "Even though the data initially consisted of users who signed up after December 21st, 2000, none were \n",
      "'recommender_system_test' members.\n"
     ]
    }
   ],
   "source": [
    "display(participants[participants.user_id.isin(past_date['user_id'])].query(\"ab_test == 'recommender_system_test'\"))\n",
    "\n",
    "print(\"\"\"Even though the data initially consisted of users who signed up after December 21st, 2000, none were \n",
    "'recommender_system_test' members.\"\"\")\n",
    "\n"
   ]
  },
  {
   "cell_type": "markdown",
   "id": "a1a0d696",
   "metadata": {},
   "source": [
    "#### Participants' Region"
   ]
  },
  {
   "cell_type": "code",
   "execution_count": null,
   "id": "002969d6",
   "metadata": {},
   "outputs": [],
   "source": [
    "# checking what percetange of EU users were participants in the \"recommender_system_test\"\n",
    "\n",
    "labels = ['EU Participants','EU Users'] # setting labels for slices \n",
    "\n",
    "# defining the data for the donut with the number of unique EU users and EU participants\n",
    "values = [rst_merge.query(\"region == 'EU'\").user_id.nunique(), filtered_users.\n",
    "           query(\"region == 'EU'\").user_id.nunique()-rst_merge.query\n",
    "          (\"region == 'EU'\").user_id.nunique()]\n",
    "\n",
    "# creating the donut, defining the hole, color and pulling the slice of EU participants\n",
    "fig = go.Figure(data=[go.Pie(labels=labels, values=values, hole=.3, pull=[0, 0.2], \n",
    "                             marker=dict(colors=(px.colors.sequential.Emrld_r)))])\n",
    "\n",
    "fig.update_layout(\n",
    "    title_text=\"Percentage Of Participants from EU New Users\") # setting the donut's title\n",
    "fig.show()\n",
    "\n",
    "print(\"\"\"The intended test audience was 15% of the new users from the EU. However, in reality, the test audience \n",
    "was only {:.2f}%.\"\"\". format(rst_merge.query(\"region == 'EU'\").user_id.nunique()/filtered_users.\n",
    "                             query(\"region == 'EU'\").user_id.nunique()*100))\n"
   ]
  },
  {
   "cell_type": "code",
   "execution_count": 50,
   "id": "f86596b7",
   "metadata": {},
   "outputs": [],
   "source": [
    "rste_merge = rst_merge.query(\"region == 'EU'\") # creating a data slice with only EU participants\n"
   ]
  },
  {
   "cell_type": "code",
   "execution_count": null,
   "id": "7925d6d4",
   "metadata": {
    "scrolled": false
   },
   "outputs": [],
   "source": [
    "# checking how much of data was removed when filtering out none EU participants\n",
    "\n",
    "\n",
    "labels = [\"EU Participants\", \"Other Regions' Participants\"] # setting labels for slices \n",
    "\n",
    "fig = make_subplots(rows=1, cols=2, specs=[[{'type':'domain'}, {'type':'domain'}]]) # creating subplots\n",
    "\n",
    "# creating donut no.1 of number of unique users remaining and filtered out\n",
    "fig.add_trace(go.Pie(labels=labels, values=[rste_merge['user_id'].nunique(), \n",
    "                        rst_merge['user_id'].nunique()-rste_merge['user_id'].nunique()], name=\"Users\"),1, 1)\n",
    "\n",
    "\n",
    "# creating donut no.2 of number of events remaining and filtered out\n",
    "fig.add_trace(go.Pie(labels=labels, values=[rste_merge['event_name'].count(), \n",
    "                    rst_merge['event_name'].count()-rste_merge['event_name'].count()], name=\"Events\"),1, 2)\n",
    "\n",
    "# pulling out a slice, setting hole, color and hover info\n",
    "fig.update_traces(hole=.3, hoverinfo=\"label+value+percent+name\", \n",
    "                  marker=dict(colors=(px.colors.sequential.Teal)))\n",
    "\n",
    "# setting the chart's title and the text in the donut holes\n",
    "fig.update_layout(\n",
    "    title_text=\"Percentage of Data Removed While Filtering\",\n",
    "    annotations=[dict(text='Users', x=0.19, y=0.5, font_size=15, showarrow=False),\n",
    "                 dict(text='Events', x=0.815, y=0.5, font_size=15, showarrow=False)])\n",
    "\n",
    "fig.show()\n",
    "\n",
    "print(\"\"\"As we saw in the previous section, a fraction of the \"recommender_system_test\" participants was not from \n",
    "the EU. At this stage they were filtered out and now {} participants remained.\n",
    "\"\"\".format(rste_merge.user_id.nunique()))"
   ]
  },
  {
   "cell_type": "markdown",
   "id": "6851cdb0",
   "metadata": {},
   "source": [
    "#### Marketing Events"
   ]
  },
  {
   "cell_type": "code",
   "execution_count": null,
   "id": "429d6ebe",
   "metadata": {},
   "outputs": [],
   "source": [
    "# creating a gantt chart of the marketing events \n",
    "\n",
    "# creating the chart with the events, their starting and ending dates, setting the color and the hover data\n",
    "fig = px.timeline(marketing_events.sort_values(by='start_dt'), x_start=\"start_dt\", x_end=\"finish_dt\", \n",
    "                  y=\"name\", hover_data=['regions'], color_discrete_sequence=(px.colors.sequential.Teal_r))\n",
    "\n",
    "fig.update_yaxes(autorange=\"reversed\") # otherwise tasks are listed from the bottom up\n",
    "\n",
    "fig.add_vline(x='2020-12-07', line_width=1, line_color=\"black\", line_dash=\"dash\") # setting the first vertical line\n",
    "\n",
    "fig.add_vline(x='2020-12-21', line_width=1, line_color=\"red\", line_dash=\"dash\") # setting the second vertical line\n",
    "\n",
    "fig.add_vline(x='2020-12-30', line_width=1, line_color=\"black\", line_dash=\"dash\") # setting the third vertical line\n",
    "\n",
    "fig.add_vrect(x0='2020-12-07', x1='2020-12-21', line_width=0, fillcolor=\"green\", opacity=0.1, \n",
    "              annotation_text=\"new users: December 7th-December 21st\", annotation_position=\"top left\", \n",
    "              annotation_textangle = 90) # setting the first colored area for the test sign up period\n",
    "\n",
    "fig.add_vrect(x0='2020-12-21', x1='2020-12-30', line_width=0, fillcolor=\"red\", opacity=0.1, \n",
    "              annotation_text=\"remaining test dates: January 1st, 2021\", annotation_position=\"top left\", \n",
    "              annotation_textangle = 90) # setting the second colored area for the remaining test period\n",
    "\n",
    "fig.update_layout(hovermode='x unified', yaxis=dict(\n",
    "        title='Marketing Event Name',\n",
    "        titlefont_size=14,\n",
    "        tickfont_size=12)) # creating a single hover label appear, describing one point per trace\n",
    "fig.show()\n",
    "\n",
    "print(\"\"\"The 'Christmas&New Year Promo' for the EU and N.America regions coincides with the dates of the ab test \n",
    "and could have affected group members' actions - especially in the number of events leading up to promo and the \n",
    "conversion to the 'purchase' event funnel, since users probably received an incentive to buy a product.\n",
    "\n",
    "The 'CIS New Year Gift Lottery' also coincides, but it was only for the CIS region (which was filtered out).\"\"\")\n"
   ]
  },
  {
   "cell_type": "markdown",
   "id": "ce086290",
   "metadata": {},
   "source": [
    "### Mid-Section Summary - A/B Test Results Analysis"
   ]
  },
  {
   "cell_type": "markdown",
   "id": "5ada5d62",
   "metadata": {},
   "source": [
    "In short, the A/B test results revealed that the test was not a success.\n",
    "\n",
    "- The number of participants of test group A is almost 3 times higher than that of test group B;\n",
    "- The expected number of participants was 6,000. However, the number of users who actually participated was 2788. Only 46.47% of the expected number of participants;\n",
    "- Even though the data initially consisted of users who signed up after December 21st, 2000, none were 'recommender_system_test' members (i.e., they were either participants of the other test in the data or didn't participate in any test);\n",
    "- The intended test audience was 15% of the new users from the EU. However, in reality, the test audience was only 6.72%;\n",
    "- A fraction of the \"recommender_system_test\" participants was not from the EU - they were now filtered out, and 2594 participants remained;\n",
    "- The 'Christmas&New Year Promo' for the EU and N.America regions coincides with the dates of the ab test and could have affected group members' actions - especially in the number of events leading up to promo and the conversion to the 'purchase' event funnel, since users probably received an incentive to buy a product;\n",
    "- The 'CIS New Year Gift Lottery' also coincides, but it was only for the CIS region (which was filtered out)."
   ]
  },
  {
   "cell_type": "markdown",
   "id": "e6a4f187",
   "metadata": {},
   "source": [
    "### A/B Tests per Event - Significance Between the Proportions"
   ]
  },
  {
   "cell_type": "markdown",
   "id": "c97d0926",
   "metadata": {},
   "source": [
    "Hereinafter, I will test the Null Hypothesis (H0) that group A's proportion is equal to that of group B.\n",
    "\n",
    "If rejected, the Alternative Hypothesis (H1) is that group A's proportion is NOT equal to that of group B.\n",
    "\n",
    "The A/B tests will be conducted per event, except for the \"login\" event since during this test better conversion was expected only for the following 3 events. Thus, we assume that 100% of members of both groups participated in this event. \n",
    "\n",
    "For this purpose, I will create a function applying the Z-test, in which we are checking two independent data groups and deciding whether a sample mean of two groups is equal or not. **Note, that the alpha will be set to 0.05 and then, using the The Bonferroni procedure (the Bonferroni correction), will be divided by 3 (m - the number of comparisons, i.e. events).**  \n",
    "\n",
    "Next, I will apply the function to the number of users of the two groups in 3 of the events in the dataset. "
   ]
  },
  {
   "cell_type": "code",
   "execution_count": 51,
   "id": "01ae830e",
   "metadata": {
    "scrolled": true
   },
   "outputs": [
    {
     "data": {
      "text/html": [
       "<div>\n",
       "<style scoped>\n",
       "    .dataframe tbody tr th:only-of-type {\n",
       "        vertical-align: middle;\n",
       "    }\n",
       "\n",
       "    .dataframe tbody tr th {\n",
       "        vertical-align: top;\n",
       "    }\n",
       "\n",
       "    .dataframe thead th {\n",
       "        text-align: right;\n",
       "    }\n",
       "</style>\n",
       "<table border=\"1\" class=\"dataframe\">\n",
       "  <thead>\n",
       "    <tr style=\"text-align: right;\">\n",
       "      <th>group</th>\n",
       "      <th>event</th>\n",
       "      <th>A</th>\n",
       "      <th>B</th>\n",
       "    </tr>\n",
       "  </thead>\n",
       "  <tbody>\n",
       "    <tr>\n",
       "      <th>0</th>\n",
       "      <td>login</td>\n",
       "      <td>1939</td>\n",
       "      <td>654</td>\n",
       "    </tr>\n",
       "    <tr>\n",
       "      <th>1</th>\n",
       "      <td>product_page</td>\n",
       "      <td>1265</td>\n",
       "      <td>367</td>\n",
       "    </tr>\n",
       "    <tr>\n",
       "      <th>2</th>\n",
       "      <td>product_cart</td>\n",
       "      <td>589</td>\n",
       "      <td>184</td>\n",
       "    </tr>\n",
       "    <tr>\n",
       "      <th>3</th>\n",
       "      <td>purchase</td>\n",
       "      <td>613</td>\n",
       "      <td>191</td>\n",
       "    </tr>\n",
       "    <tr>\n",
       "      <th>4</th>\n",
       "      <td>user_id</td>\n",
       "      <td>1939</td>\n",
       "      <td>655</td>\n",
       "    </tr>\n",
       "  </tbody>\n",
       "</table>\n",
       "</div>"
      ],
      "text/plain": [
       "group         event     A    B\n",
       "0             login  1939  654\n",
       "1      product_page  1265  367\n",
       "2      product_cart   589  184\n",
       "3          purchase   613  191\n",
       "4           user_id  1939  655"
      ]
     },
     "execution_count": 51,
     "metadata": {},
     "output_type": "execute_result"
    }
   ],
   "source": [
    "# creating a pivot table with the unique users of each event in each group, adding a row of all users and reindexing\n",
    "\n",
    "exp_piv = rste_merge.pivot_table(columns=\"group\", index=\"event_name\", values='user_id', aggfunc='nunique').append(\n",
    "    rste_merge.pivot_table(columns=\"group\", values='user_id', aggfunc='nunique')).reset_index().rename(\n",
    "    columns={'index': 'event'}).reindex([0, 2, 1, 3, 4]).reset_index(drop=True)\n",
    "\n",
    "exp_piv # printing the pivot table \n"
   ]
  },
  {
   "cell_type": "markdown",
   "id": "865d4eed",
   "metadata": {},
   "source": [
    "Above, I created a table with the overall number of participants of each experiment group and the number of participants in each of the subsequent events. \n",
    "\n",
    "**It should be noted, that it is possible that due to a technical error a member of experiment group B has no \"login\" event. \n",
    "Our assumption should be that every member logs in. Thus, 100% of each experiment group should have that event.**"
   ]
  },
  {
   "cell_type": "code",
   "execution_count": 52,
   "id": "70f4a120",
   "metadata": {},
   "outputs": [],
   "source": [
    "# creating a function for the z-test ab test for groups A and B of the \"recommender_system_test\"\n",
    "\n",
    "alpha = 0.05 # significance level\n",
    "bonferroni_alpha = alpha / 3 # using the bonferroni correction since three comparisons are being made\n",
    "\n",
    "def test_ab(a,b,e):\n",
    "    \n",
    "    logs_a = exp_piv[exp_piv.event == \"user_id\"][a].iloc[0] # first group total visits\n",
    "    logs_b = exp_piv[exp_piv.event == \"user_id\"][b].iloc[0] # second group total visits\n",
    "\n",
    "    event_a = exp_piv[exp_piv.event == e][a].iloc[0] # first group specific events\n",
    "    event_b = exp_piv[exp_piv.event == e][b].iloc[0] # second group specific events\n",
    "    \n",
    "    p1 = event_a/logs_a # events proportion in the first group\n",
    "\n",
    "    p2 = event_b/logs_b # events proportion in the second group\n",
    "\n",
    "    p_combined = (event_a + event_b) / (logs_a + logs_b) # success proportion in the combined dataset\n",
    "\n",
    "    difference = p1 - p2 # the difference between the datasets' proportions\n",
    "\n",
    "    # calculating the statistic in standard deviations of the standard normal distribution\n",
    "    z_value = difference / mth.sqrt(p_combined * (1 - p_combined) * (1/logs_a + 1/logs_b))\n",
    "\n",
    "    # setting up the standard normal distribution (mean 0, standard deviation 1)\n",
    "    distr = st.norm(0, 1)  \n",
    "\n",
    "    p_value = (1 - distr.cdf(abs(z_value))) * 2 # setting the p_value as the difference between 1 and z_value times 2\n",
    "\n",
    "    print(\"\"\"The share of users from group {} that had the {} event is {:.2%}.\"\"\".format(a, e, (event_a/logs_a)))\n",
    "    print(\"\"\"The share of users from group {} that had the {} event is {:.2%}.\"\"\".format(b, e, (event_b/logs_b)))\n",
    "    print('p-value: {:.3f}'.format(p_value))\n",
    "\n",
    "    if (p_value < bonferroni_alpha):\n",
    "        print(\"\"\"Conclusion: \n",
    "Reject the Null Hypothesis (H0) in regards to event {} using significance level (alpha) of {:.5f}.\"\"\".format(\n",
    "            e, bonferroni_alpha))\n",
    "    else:\n",
    "        print(\"\"\"Conclusion: \n",
    "We are unable reject the Null Hypothesis (H0) in regards to event {} using significance level \n",
    "(alpha) of {:.5f}.\"\"\".format(e, bonferroni_alpha))\n",
    "        "
   ]
  },
  {
   "cell_type": "code",
   "execution_count": 53,
   "id": "60b28c6c",
   "metadata": {},
   "outputs": [
    {
     "name": "stdout",
     "output_type": "stream",
     "text": [
      "The share of users from group A that had the product_page event is 65.24%.\n",
      "The share of users from group B that had the product_page event is 56.03%.\n",
      "p-value: 0.000\n",
      "Conclusion: \n",
      "Reject the Null Hypothesis (H0) in regards to event product_page using significance level (alpha) of 0.01667.\n",
      "\n",
      "-----------\n",
      "\n",
      "The share of users from group A that had the product_cart event is 30.38%.\n",
      "The share of users from group B that had the product_cart event is 28.09%.\n",
      "p-value: 0.269\n",
      "Conclusion: \n",
      "We are unable reject the Null Hypothesis (H0) in regards to event product_cart using significance level \n",
      "(alpha) of 0.01667.\n",
      "\n",
      "-----------\n",
      "\n",
      "The share of users from group A that had the purchase event is 31.61%.\n",
      "The share of users from group B that had the purchase event is 29.16%.\n",
      "p-value: 0.240\n",
      "Conclusion: \n",
      "We are unable reject the Null Hypothesis (H0) in regards to event purchase using significance level \n",
      "(alpha) of 0.01667.\n",
      "\n",
      "-----------\n",
      "\n"
     ]
    }
   ],
   "source": [
    "# creating a loop implementing the z-test ab test function and printing the output \n",
    "\n",
    "events = [\"product_page\", \"product_cart\", \"purchase\"] # picking the events to be looped \n",
    "\n",
    "for e in events:\n",
    "    test_ab(\"A\", \"B\", e)\n",
    "    print()\n",
    "    print('-----------')\n",
    "    print()"
   ]
  },
  {
   "cell_type": "markdown",
   "id": "a57fa712",
   "metadata": {},
   "source": [
    "#### Conclusions"
   ]
  },
  {
   "cell_type": "markdown",
   "id": "41a427b7",
   "metadata": {},
   "source": [
    "For the first comparison, the product_page event, the p-value is lower than the alpha (0.01667) - this means that we **reject** the null hypothesis that the behavior the control group (A) and the test group (B) is equal in this event in the event funnel. Not only that, the share of users from group B is lower by more than 9% from that of group A. \n",
    "\n",
    "However, for two of the events (product_cart and and purchase) the p-value is higher than the alpha (0.01667) - this means that we **can't reject** the null hypothesis that the behavior the control group (A) and the test group (B) is equal in these two events in the event funnel."
   ]
  },
  {
   "cell_type": "markdown",
   "id": "8ff069e7",
   "metadata": {},
   "source": [
    "## Overall Summary and Conclusions"
   ]
  },
  {
   "cell_type": "markdown",
   "id": "d6bb760e",
   "metadata": {},
   "source": [
    "### Summary"
   ]
  },
  {
   "cell_type": "markdown",
   "id": "2e2eb97d",
   "metadata": {},
   "source": [
    "In this analysis, I performed the following steps before analyzing the A/B test results:\n",
    "\n",
    "\n",
    "* Initial Exploration of the Datasets:\n",
    "    - marketing_events\n",
    "        * The dataset has 4 columns and 14 rows;\n",
    "        * Most events are for specific regions, about 3 are for all regions. \n",
    "    - user_events\n",
    "        * The dataset has 4 columns and 423,761 rows;\n",
    "        * The \"details\" column has only 60,314 non null values - the nature of the null values will be examined \n",
    "           in the next section;\n",
    "        * There are 58,703 users and 257,138 event dates and 4 types of events (the most common are \"login\" and\n",
    "          \"product_page\";\n",
    "        * There are only 4 prices: 4.99, 9.99, 99.99 and 499.99. 4.99 is by far the most frequent. \n",
    "    - users\n",
    "        * The dataset has 4 columns and 58,703 rows (matches the number of users in the \"user_events\" dataset);\n",
    "        * The most common region and sign up device are EU and Android (then PC), respectively;\n",
    "        * Most users signed up on December 7th, the 14th and the 21st, 2020;\n",
    "        * There are users who signed up after the exclusion date (December 21st).\n",
    "\n",
    "    - participants\n",
    "        * The dataset has 3 columns and 14,525 rows;\n",
    "        * There are only 13,638 participants in the dataset (meaning there are a lot of users who aren't\n",
    "          participants);\n",
    "        * 3/4 of the participants (10,850 to be exact) participated in the \"interface_eu_test\" (not the test\n",
    "          analyzed in this report);\n",
    "        * This dataset is an early indication that the test was not performed as intended: 3,675 participants\n",
    "          instead of 6,000 and it seems that some might be participants of the other test as well. \n",
    "\n",
    "\n",
    "* Data Preprocessing:\n",
    "    * In the marketing_events dataset I converted the data types of two columns to datetime.\n",
    "    * In the user_events dataset: \n",
    "        * Even though more than 85% of the values in the \"details\" column are null - there is a reasonable explanation for this and there is no need to remove them or fill them. The details is the priced paid for products users purchased and there are no null values for the \"purchase\" event;\n",
    "        * The dates of the test are from December 7th, 2020, till January 1st, 2021 - so there is no need to remove         events from the dataset since they all fall within these dates.\n",
    "    * In the users dataset there was an incorrect data type for the \"first_date\" column and there are users who signed up after December 21st, 2020.\n",
    "    * In the participants dataset there were no duplicates or nulls and no data types to convert. \n",
    "\n",
    "    - Sign up date filtration \n",
    "        * Since there were users who signed up after December 21st, 2020, in the datasets - I saved their user ids in a table called \"past_date\" and filtered their ids from the users, user_events and participants datasets;\n",
    "        * I checked that the filtration did not create anomalies in the distribution of values in the datasets - the distribution stayed the same only in fewer numbers;\n",
    "        * Once these users were filtered out, the rows of each data set were as follows: \n",
    "            * users - 53,440;\n",
    "            * user_events - 394,657 (56,170 non null values in the \"details\" column);\n",
    "            * participants - 13,523.\n",
    "            \n",
    "\n",
    "* Exploratory Data Analysis:\n",
    "\n",
    "    - Conversion\n",
    "        * Overall, more than 60% of users who login to the store, visit a product's page and nearly 50% purchase\n",
    "        the/a product. However, we can also see that it's possible to purchase a product directly from product\n",
    "        page and skip the product cart since the purchase event has more users than the product cart event;\n",
    "        * Most users logged in and view the product page and approximately the same amount of users visited the\n",
    "        cart/made a purchase. It should also be noted that the groups are grossly uneven;\n",
    "        * For the events performed by the participants of the \"recommender_system_test\", we can see that group A\n",
    "        is significantly smaller than group B and that for both groups the trends of the overall users are the same. \n",
    "        \n",
    "    - Events per User\n",
    "        * Most users in the dataset had either 4, 6, 8 or 12 events between December 7th, 2020, and January 1st,\n",
    "        2021 (actual last date is December 30th, 2020). Very few users had more than 12 events;\n",
    "        * The participants of the \"recommender_system_test\" follow the same trends of all the users, with more\n",
    "        than 800 members having 6 events. Overall, most users had no more than 12 events. \n",
    "        \n",
    "    - Events per Day\n",
    "        * The participants of the \"recommender_system_test\" follow the same trends of all the users, with more\n",
    "        than 800 members having 6 events. Overall, most users had no more than 12 events; \n",
    "        * The distribution of events per day among the participants of the \"recommender_system_test\" is similar to\n",
    "        the overall distribution, with one exception - no mini peak of December 24th. \n",
    "        \n",
    "    - Overlapping test participants and filtering non-recommender_system_test participants\n",
    "        * There were no participants who are members of both groups in either of the tests in the dataset;\n",
    "        * There 887 participants who are members of both the \"recommender_system_test\" and the\n",
    "        \"interface_eu_test\";\n",
    "        * created new tables of each dataset with only the data pertaining to the participants of the\n",
    "        \"recommender_system_test\" who participated in this test alone. The data filtered out is more than 95% of\n",
    "        users and events. \n",
    "        \n",
    "    - Additional Details\n",
    "        * I merged all the data pertaining to the participants of the \"recommender_system_test\" into one dataset;\n",
    "        * Most of the participants are from the EU but there are some participants from other regions among the\n",
    "        participants;\n",
    "        * Most participants signed up on December 7th, the 14th and the 21st. There were better sign up numbers\n",
    "        leading to the 21st. Participants used mostly Android and PC to sign up;\n",
    "        * Android is by far the device used the most to sign up - more than 1,200 participants (out of 2,788\n",
    "        participants). Next is PC and iPhone while Mac is last. It is possible that most participants sign up \"on\n",
    "        the go\" maybe they saw an advertisement, or that the interface is more user friendly.\n",
    "        \n",
    "        \n",
    "* A/B Test Analysis:\n",
    "    - The A/B Test Results\n",
    "        - The number of participants of test group A is almost 3 times higher than that of test group B;\n",
    "        - The expected number of participants was 6,000. However, the number of users who actually participated\n",
    "        was 2788. Only 46.47% of the expected number of participants;\n",
    "        - Even though the data initially consisted of users who signed up after December 21st, 2000, none were\n",
    "        'recommender_system_test' members (i.e., they were either participants of the other test in the data or\n",
    "        didn't participate in any test);\n",
    "        - The intended test audience was 15% of the new users from the EU. However, in reality, the test audience\n",
    "        was only 6.72%;\n",
    "        - A fraction of the \"recommender_system_test\" participants was not from the EU - they were now filtered\n",
    "        out, and 2594 participants remained;\n",
    "        - The 'Christmas&New Year Promo' for the EU and N.America regions coincides with the dates of the ab test\n",
    "        and could have affected group members' actions - especially in the number of events leading up to promo\n",
    "        and the conversion to the 'purchase' event funnel, since users probably received an incentive to buy a\n",
    "        product;\n",
    "        - The 'CIS New Year Gift Lottery' also coincides, but it was only for the CIS region (which was filtered out).\n",
    "    - Studying the Statistical Significance between the Proportions of the Experiment Groups\n",
    "       * The Null Hypothesis (H0) is that group A's proportion is equal to that of group B;\n",
    "       * The Alternative Hypothesis (H1) is that group A's proportion is NOT equal to that of group B;\n",
    "       * The A/B tests were conducted per event, except for the \"login\" event;\n",
    "       * A function was created to apply the Z-test (used to test hypotheses about the equality of proportions of\n",
    "       populations);\n",
    "       * The alpha was set to 0.05 and then, using the The Bonferroni procedure (the Bonferroni correction), was\n",
    "       be divided by 3 (m - the number of comparisons, i.e. events).**          \n",
    "        \n",
    "**In short, the A/B test results revealed that the test was not a success and was not conducted as intended - contaminated by participants of another test, regions that are not EU, extremely unequal test groups and less than half of the expected number of test participants.**\n"
   ]
  },
  {
   "cell_type": "markdown",
   "id": "a0b08b00",
   "metadata": {},
   "source": [
    "### Conclusions"
   ]
  },
  {
   "cell_type": "markdown",
   "id": "9c848746",
   "metadata": {},
   "source": [
    "The behavior of the test group (B), the users who experienced the changes related to the introduction of an improved recommendation system, is similar to that of the members of the control group (A) in the product_cart and purchase events (the ones generating revenue).\n",
    "\n",
    "The only event that where the behavior of the test group (B) was different to that of the control group (A) was the product_page event. However, their share was smaller than that of the control group.\n",
    "\n",
    "**The changes related to the introduction of an improved recommendation system have no bearing on the users' experience and don't increase conversion into product page views (the product_page event), product card views (product_card) and purchases (purchase).**\n",
    "\n",
    "**The conversion certainly did not increase by 10% (as was expected), and not only that, for the product_page event it DECREASED by more than 9%.** "
   ]
  }
 ],
 "metadata": {
  "hide_input": false,
  "kernelspec": {
   "display_name": "Python 3 (ipykernel)",
   "language": "python",
   "name": "python3"
  },
  "language_info": {
   "codemirror_mode": {
    "name": "ipython",
    "version": 3
   },
   "file_extension": ".py",
   "mimetype": "text/x-python",
   "name": "python",
   "nbconvert_exporter": "python",
   "pygments_lexer": "ipython3",
   "version": "3.9.7"
  },
  "toc": {
   "base_numbering": 1,
   "nav_menu": {},
   "number_sections": true,
   "sideBar": true,
   "skip_h1_title": true,
   "title_cell": "Table of Contents",
   "title_sidebar": "Contents",
   "toc_cell": false,
   "toc_position": {
    "height": "calc(100% - 180px)",
    "left": "10px",
    "top": "150px",
    "width": "288px"
   },
   "toc_section_display": true,
   "toc_window_display": true
  },
  "varInspector": {
   "cols": {
    "lenName": 16,
    "lenType": 16,
    "lenVar": 40
   },
   "kernels_config": {
    "python": {
     "delete_cmd_postfix": "",
     "delete_cmd_prefix": "del ",
     "library": "var_list.py",
     "varRefreshCmd": "print(var_dic_list())"
    },
    "r": {
     "delete_cmd_postfix": ") ",
     "delete_cmd_prefix": "rm(",
     "library": "var_list.r",
     "varRefreshCmd": "cat(var_dic_list()) "
    }
   },
   "types_to_exclude": [
    "module",
    "function",
    "builtin_function_or_method",
    "instance",
    "_Feature"
   ],
   "window_display": false
  }
 },
 "nbformat": 4,
 "nbformat_minor": 5
}
